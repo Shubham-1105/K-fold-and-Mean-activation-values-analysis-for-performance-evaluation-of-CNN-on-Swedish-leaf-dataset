{
  "nbformat": 4,
  "nbformat_minor": 0,
  "metadata": {
    "colab": {
      "name": "Swedish_Leaf_CNN_k10",
      "provenance": [],
      "collapsed_sections": []
    },
    "kernelspec": {
      "name": "python3",
      "display_name": "Python 3"
    }
  },
  "cells": [
    {
      "cell_type": "code",
      "metadata": {
        "id": "pZPLL4iKc0EM",
        "colab_type": "code",
        "colab": {
          "base_uri": "https://localhost:8080/",
          "height": 35
        },
        "outputId": "53761758-7b2e-4c14-beb1-9b344dfa19fe"
      },
      "source": [
        "import tensorflow as tf\n",
        "import matplotlib.pyplot as plt\n",
        "import numpy as np\n",
        "import glob\n",
        "from tensorflow.keras.preprocessing.image import ImageDataGenerator\n",
        "import os\n",
        "from sklearn.model_selection import KFold,StratifiedKFold\n",
        "import random\n",
        "%matplotlib inline\n",
        "tf.__version__"
      ],
      "execution_count": 1,
      "outputs": [
        {
          "output_type": "execute_result",
          "data": {
            "application/vnd.google.colaboratory.intrinsic+json": {
              "type": "string"
            },
            "text/plain": [
              "'2.3.0'"
            ]
          },
          "metadata": {
            "tags": []
          },
          "execution_count": 1
        }
      ]
    },
    {
      "cell_type": "code",
      "metadata": {
        "id": "ylGsSqpgAaBl",
        "colab_type": "code",
        "colab": {
          "base_uri": "https://localhost:8080/",
          "height": 34
        },
        "outputId": "87259f4e-0b27-4545-e1fe-9d375b634a86"
      },
      "source": [
        "from google.colab import drive\n",
        "drive.mount('/content/drive')"
      ],
      "execution_count": 2,
      "outputs": [
        {
          "output_type": "stream",
          "text": [
            "Drive already mounted at /content/drive; to attempt to forcibly remount, call drive.mount(\"/content/drive\", force_remount=True).\n"
          ],
          "name": "stdout"
        }
      ]
    },
    {
      "cell_type": "code",
      "metadata": {
        "id": "svtiI-4yAaYQ",
        "colab_type": "code",
        "colab": {
          "base_uri": "https://localhost:8080/",
          "height": 34
        },
        "outputId": "97e75785-5603-4f3b-bb94-7012cc8c39f8"
      },
      "source": [
        "%cd 'drive/My Drive/Swedish Leaf'"
      ],
      "execution_count": 3,
      "outputs": [
        {
          "output_type": "stream",
          "text": [
            "/content/drive/My Drive/Swedish Leaf\n"
          ],
          "name": "stdout"
        }
      ]
    },
    {
      "cell_type": "code",
      "metadata": {
        "id": "bssV66ChuEu4",
        "colab_type": "code",
        "colab": {}
      },
      "source": [
        "import glob\n",
        "Leaf1 = glob.glob('./Leaf1/*.*')\n",
        "Leaf2 = glob.glob('./Leaf2/*.*')\n",
        "Leaf3 = glob.glob('./Leaf3/*.*')\n",
        "Leaf4 = glob.glob('./Leaf4/*.*')\n",
        "Leaf5 = glob.glob('./Leaf5/*.*')\n",
        "Leaf6 = glob.glob('./Leaf6/*.*')\n",
        "Leaf7 = glob.glob('./Leaf7/*.*')\n",
        "Leaf8 = glob.glob('./Leaf8/*.*')\n",
        "Leaf9 = glob.glob('./Leaf9/*.*')\n",
        "Leaf10 = glob.glob('./Leaf10/*.*')\n",
        "Leaf11= glob.glob('./Leaf11/*.*')\n",
        "Leaf12= glob.glob('./Leaf12/*.*')\n",
        "Leaf13= glob.glob('./Leaf13/*.*')\n",
        "Leaf14= glob.glob('./Leaf14/*.*')\n",
        "Leaf15= glob.glob('./Leaf15/*.*')\n",
        "\n",
        "data = []\n",
        "labels = []"
      ],
      "execution_count": 4,
      "outputs": []
    },
    {
      "cell_type": "code",
      "metadata": {
        "id": "oi_ijhEPv2mU",
        "colab_type": "code",
        "colab": {}
      },
      "source": [
        "from tensorflow.keras.preprocessing.image import load_img,img_to_array"
      ],
      "execution_count": 5,
      "outputs": []
    },
    {
      "cell_type": "code",
      "metadata": {
        "id": "494uI5OduzYM",
        "colab_type": "code",
        "colab": {}
      },
      "source": [
        "for i in Leaf1:   \n",
        "    image=load_img(i)\n",
        "    img_arr=img_to_array(image)\n",
        "    data.append(img_arr)\n",
        "    labels.append(0)"
      ],
      "execution_count": 6,
      "outputs": []
    },
    {
      "cell_type": "code",
      "metadata": {
        "id": "nOa8gIvwxbAK",
        "colab_type": "code",
        "colab": {}
      },
      "source": [
        "for i in Leaf2:   \n",
        "    image=load_img(i)\n",
        "    img_arr=img_to_array(image)\n",
        "    data.append(img_arr)\n",
        "    labels.append(1)"
      ],
      "execution_count": 7,
      "outputs": []
    },
    {
      "cell_type": "code",
      "metadata": {
        "id": "mawLIf3uxaag",
        "colab_type": "code",
        "colab": {}
      },
      "source": [
        "for i in Leaf3:   \n",
        "    image=load_img(i)\n",
        "    img_arr=img_to_array(image)\n",
        "    data.append(img_arr)\n",
        "    labels.append(2)"
      ],
      "execution_count": 8,
      "outputs": []
    },
    {
      "cell_type": "code",
      "metadata": {
        "id": "VfM8Ztozx5iL",
        "colab_type": "code",
        "colab": {}
      },
      "source": [
        "for i in Leaf4:   \n",
        "    image=load_img(i)\n",
        "    img_arr=img_to_array(image)\n",
        "    data.append(img_arr)\n",
        "    labels.append(3)"
      ],
      "execution_count": 9,
      "outputs": []
    },
    {
      "cell_type": "code",
      "metadata": {
        "id": "xKk5nGsXx6ZI",
        "colab_type": "code",
        "colab": {}
      },
      "source": [
        "for i in Leaf5:   \n",
        "    image=load_img(i)\n",
        "    img_arr=img_to_array(image)\n",
        "    data.append(img_arr)\n",
        "    labels.append(4)"
      ],
      "execution_count": 10,
      "outputs": []
    },
    {
      "cell_type": "code",
      "metadata": {
        "id": "k2kJwQVWx6wB",
        "colab_type": "code",
        "colab": {}
      },
      "source": [
        "for i in Leaf6:   \n",
        "    image=load_img(i)\n",
        "    img_arr=img_to_array(image)\n",
        "    data.append(img_arr)\n",
        "    labels.append(5)"
      ],
      "execution_count": 11,
      "outputs": []
    },
    {
      "cell_type": "code",
      "metadata": {
        "id": "xa5kbHKOx6Id",
        "colab_type": "code",
        "colab": {}
      },
      "source": [
        "for i in Leaf7:   \n",
        "    image=load_img(i)\n",
        "    img_arr=img_to_array(image)\n",
        "    data.append(img_arr)\n",
        "    labels.append(6)"
      ],
      "execution_count": 12,
      "outputs": []
    },
    {
      "cell_type": "code",
      "metadata": {
        "id": "KLSHxx5Y2EDL",
        "colab_type": "code",
        "colab": {}
      },
      "source": [
        "for i in Leaf8:   \n",
        "    image=load_img(i)\n",
        "    img_arr=img_to_array(image)\n",
        "    data.append(img_arr)\n",
        "    labels.append(7)"
      ],
      "execution_count": 13,
      "outputs": []
    },
    {
      "cell_type": "code",
      "metadata": {
        "id": "Y62fvkUG2Evm",
        "colab_type": "code",
        "colab": {}
      },
      "source": [
        "for i in Leaf9:   \n",
        "    image=load_img(i)\n",
        "    img_arr=img_to_array(image)\n",
        "    data.append(img_arr)\n",
        "    labels.append(8)"
      ],
      "execution_count": 14,
      "outputs": []
    },
    {
      "cell_type": "code",
      "metadata": {
        "id": "FfInGUQL2Fer",
        "colab_type": "code",
        "colab": {}
      },
      "source": [
        "for i in Leaf10:   \n",
        "    image=load_img(i)\n",
        "    img_arr=img_to_array(image)\n",
        "    data.append(img_arr)\n",
        "    labels.append(9)"
      ],
      "execution_count": 15,
      "outputs": []
    },
    {
      "cell_type": "code",
      "metadata": {
        "id": "OiOFqNlE2FHO",
        "colab_type": "code",
        "colab": {}
      },
      "source": [
        "for i in Leaf11:   \n",
        "    image=load_img(i)\n",
        "    img_arr=img_to_array(image)\n",
        "    data.append(img_arr)\n",
        "    labels.append(10)"
      ],
      "execution_count": 16,
      "outputs": []
    },
    {
      "cell_type": "code",
      "metadata": {
        "id": "2oN7p4f22Edh",
        "colab_type": "code",
        "colab": {}
      },
      "source": [
        "for i in Leaf12:   \n",
        "    image=load_img(i)\n",
        "    img_arr=img_to_array(image)\n",
        "    data.append(img_arr)\n",
        "    labels.append(11)"
      ],
      "execution_count": 17,
      "outputs": []
    },
    {
      "cell_type": "code",
      "metadata": {
        "id": "MpK4ZoxLx5TY",
        "colab_type": "code",
        "colab": {}
      },
      "source": [
        "for i in Leaf13:   \n",
        "    image=load_img(i)\n",
        "    img_arr=img_to_array(image)\n",
        "    data.append(img_arr)\n",
        "    labels.append(12)"
      ],
      "execution_count": 18,
      "outputs": []
    },
    {
      "cell_type": "code",
      "metadata": {
        "id": "PlVqxuyHxpdE",
        "colab_type": "code",
        "colab": {}
      },
      "source": [
        "for i in Leaf14:   \n",
        "    image=load_img(i)\n",
        "    img_arr=img_to_array(image)\n",
        "    data.append(img_arr)\n",
        "    labels.append(13)"
      ],
      "execution_count": 19,
      "outputs": []
    },
    {
      "cell_type": "code",
      "metadata": {
        "id": "kPDu8lzV2spr",
        "colab_type": "code",
        "colab": {}
      },
      "source": [
        "for i in Leaf15:   \n",
        "    image=load_img(i)\n",
        "    img_arr=img_to_array(image)\n",
        "    data.append(img_arr)\n",
        "    labels.append(14)"
      ],
      "execution_count": 20,
      "outputs": []
    },
    {
      "cell_type": "code",
      "metadata": {
        "id": "jZQnJDma_qqJ",
        "colab_type": "code",
        "colab": {}
      },
      "source": [
        "skf=StratifiedKFold(n_splits=5,shuffle=True,random_state=random.randint(0,100))"
      ],
      "execution_count": 21,
      "outputs": []
    },
    {
      "cell_type": "code",
      "metadata": {
        "id": "TQ8UHUXb_rPw",
        "colab_type": "code",
        "colab": {}
      },
      "source": [
        "idg=ImageDataGenerator(rescale=1./255)"
      ],
      "execution_count": 22,
      "outputs": []
    },
    {
      "cell_type": "code",
      "metadata": {
        "id": "wNaGq2Ik_q_G",
        "colab_type": "code",
        "colab": {}
      },
      "source": [
        "def get_model_name(k):\n",
        "    return 'model_'+str(k)+'.h5'"
      ],
      "execution_count": 23,
      "outputs": []
    },
    {
      "cell_type": "code",
      "metadata": {
        "id": "afKGr-LieVNw",
        "colab_type": "code",
        "colab": {}
      },
      "source": [
        "from keras.utils.np_utils import to_categorical   \n",
        "\n",
        "categorical_labels = to_categorical(labels, num_classes=15)"
      ],
      "execution_count": 24,
      "outputs": []
    },
    {
      "cell_type": "code",
      "metadata": {
        "id": "_IeZdGfYeUVR",
        "colab_type": "code",
        "colab": {
          "base_uri": "https://localhost:8080/",
          "height": 34
        },
        "outputId": "c82fe083-12ef-4855-cbe7-cf1449f0aa7f"
      },
      "source": [
        "data1 = np.array(data)\n",
        "print(data1.shape)"
      ],
      "execution_count": 25,
      "outputs": [
        {
          "output_type": "stream",
          "text": [
            "(6000, 128, 128, 3)\n"
          ],
          "name": "stdout"
        }
      ]
    },
    {
      "cell_type": "code",
      "metadata": {
        "id": "mDwpf5jYDBt1",
        "colab_type": "code",
        "colab": {}
      },
      "source": [
        "train_datagen=ImageDataGenerator(rescale=1./255)\n",
        "val_datagen = ImageDataGenerator(rescale=1./255)\n",
        "test_datagen = ImageDataGenerator(rescale=1./255)"
      ],
      "execution_count": 26,
      "outputs": []
    },
    {
      "cell_type": "code",
      "metadata": {
        "colab_type": "code",
        "id": "OVtFc-bwIlYZ",
        "colab": {}
      },
      "source": [
        "model=tf.keras.models.Sequential()\n",
        "model.add(tf.keras.layers.Conv2D(32,(5,5),strides=(1,1),padding='same',activation='relu',input_shape=[128,128,3]))\n",
        "model.add(tf.keras.layers.MaxPool2D(pool_size=(2,2),padding='same'))\n",
        "  \n",
        "model.add(tf.keras.layers.Conv2D(64,(5,5),activation='relu',padding='same',strides=(1,1)))\n",
        "model.add(tf.keras.layers.MaxPool2D(pool_size=(2,2),padding='same'))\n",
        "model.add(tf.keras.layers.BatchNormalization())\n",
        "\n",
        "model.add(tf.keras.layers.Conv2D(96,(3,3),activation='relu',strides=(2,2),padding='same'))\n",
        "model.add(tf.keras.layers.MaxPool2D(pool_size=(2,2),padding='valid'))\n",
        "model.add(tf.keras.layers.BatchNormalization())\n",
        "\n",
        "model.add(tf.keras.layers.Flatten())\n",
        "model.add(tf.keras.layers.Dense(units=100,activation='relu'))\n",
        "model.add(tf.keras.layers.Dense(units=100,activation='relu'))\n",
        "model.add(tf.keras.layers.Dropout(0.25))\n",
        "\n",
        "model.add(tf.keras.layers.Dense(15,activation='softmax'))\n",
        "  \n",
        "model.compile(loss='categorical_crossentropy',optimizer='adam',metrics=['accuracy'])\n",
        "\n",
        "\n",
        "\n",
        "\n",
        " "
      ],
      "execution_count": 27,
      "outputs": []
    },
    {
      "cell_type": "markdown",
      "metadata": {
        "id": "-Musb_hTWr11",
        "colab_type": "text"
      },
      "source": [
        "K-Fold Cross Validation\n"
      ]
    },
    {
      "cell_type": "markdown",
      "metadata": {
        "id": "ChR5qNGyW0J3",
        "colab_type": "text"
      },
      "source": [
        "For K=10 Folds\n"
      ]
    },
    {
      "cell_type": "code",
      "metadata": {
        "id": "5QPP_QNuYBCa",
        "colab_type": "code",
        "colab": {}
      },
      "source": [
        "validation_accuracy_k10=[]\n",
        "validation_loss_k10=[]\n",
        "fold_var=1"
      ],
      "execution_count": 28,
      "outputs": []
    },
    {
      "cell_type": "code",
      "metadata": {
        "id": "96TYXxgmDBKe",
        "colab_type": "code",
        "colab": {}
      },
      "source": [
        "from sklearn.model_selection import train_test_split\n",
        "X_train1, X_test0, ytrain1, ytest0 = train_test_split(data1, categorical_labels, test_size=0.1,\n",
        "                                                    random_state=random.randint(0,100))"
      ],
      "execution_count": 32,
      "outputs": []
    },
    {
      "cell_type": "code",
      "metadata": {
        "id": "x2akFS2-hPvY",
        "colab_type": "code",
        "colab": {
          "base_uri": "https://localhost:8080/",
          "height": 1000
        },
        "outputId": "7c9dda24-ad2c-4613-845f-c390d21ee54c"
      },
      "source": [
        "for index in range(10):#readings change for every epoch\n",
        "    \n",
        "    X_train, X_test1, ytrain, ytest1 = train_test_split(X_train1, ytrain1, test_size=0.2,\n",
        "                                                    random_state=random.randint(0,100))\n",
        "    \n",
        "    X_val, X_test, yval, ytest = train_test_split(X_test1, ytest1, test_size=0.5,\n",
        "                                                    random_state=random.randint(0,100))\n",
        "    \n",
        "    \n",
        "    \n",
        "    \n",
        "   \n",
        "  \n",
        "    \n",
        "    training_set = train_datagen.flow(\n",
        "            X_train, ytrain,\n",
        "            batch_size=64)\n",
        "    \n",
        "    val_set = val_datagen.flow(\n",
        "            X_val, yval, \n",
        "            batch_size=64)\n",
        "    \n",
        "    test_set = test_datagen.flow(\n",
        "            X_test, ytest,\n",
        "            batch_size=64)\n",
        "    \n",
        "    X, y = test_set.next()\n",
        "    history=model.fit_generator(\n",
        "            training_set,\n",
        "            steps_per_epoch=20,\n",
        "            epochs=10,\n",
        "            validation_data=val_set,\n",
        "            validation_steps=100\n",
        "            )\n",
        "     \n",
        "\n",
        "    \n",
        "    \n",
        "    results = model.evaluate(X,y)\n",
        "    results1=dict(zip(model.metrics_names,results))\n",
        "    validation_accuracy_k10.append(results1['accuracy'])\n",
        "    validation_loss_k10.append(results1['loss'])\n",
        "\n",
        "    tf.keras.backend.clear_session()\n",
        "    fold_var+=1\n",
        "    \n",
        "    "
      ],
      "execution_count": 36,
      "outputs": [
        {
          "output_type": "stream",
          "text": [
            "Epoch 1/10\n",
            "20/20 [==============================] - ETA: 0s - loss: 2.4416 - accuracy: 0.1953WARNING:tensorflow:Your input ran out of data; interrupting training. Make sure that your dataset or generator can generate at least `steps_per_epoch * epochs` batches (in this case, 100 batches). You may need to use the repeat() function when building your dataset.\n",
            "20/20 [==============================] - 59s 3s/step - loss: 2.4416 - accuracy: 0.1953 - val_loss: 2.6226 - val_accuracy: 0.1056\n",
            "Epoch 2/10\n",
            "20/20 [==============================] - 53s 3s/step - loss: 2.2362 - accuracy: 0.2398\n",
            "Epoch 3/10\n",
            "20/20 [==============================] - 53s 3s/step - loss: 2.0988 - accuracy: 0.2883\n",
            "Epoch 4/10\n",
            "20/20 [==============================] - 53s 3s/step - loss: 1.8336 - accuracy: 0.3742\n",
            "Epoch 5/10\n",
            "20/20 [==============================] - 52s 3s/step - loss: 1.7363 - accuracy: 0.4119\n",
            "Epoch 6/10\n",
            "20/20 [==============================] - 54s 3s/step - loss: 1.6462 - accuracy: 0.4484\n",
            "Epoch 7/10\n",
            "20/20 [==============================] - 53s 3s/step - loss: 1.6473 - accuracy: 0.4352\n",
            "Epoch 8/10\n",
            "20/20 [==============================] - 54s 3s/step - loss: 1.5020 - accuracy: 0.4820\n",
            "Epoch 9/10\n",
            "20/20 [==============================] - 52s 3s/step - loss: 1.4590 - accuracy: 0.4896\n",
            "Epoch 10/10\n",
            "20/20 [==============================] - 55s 3s/step - loss: 1.3510 - accuracy: 0.5234\n",
            "2/2 [==============================] - 0s 183ms/step - loss: 2.7942 - accuracy: 0.1562\n",
            "Epoch 1/10\n",
            "20/20 [==============================] - ETA: 0s - loss: 1.1916 - accuracy: 0.5758WARNING:tensorflow:Your input ran out of data; interrupting training. Make sure that your dataset or generator can generate at least `steps_per_epoch * epochs` batches (in this case, 100 batches). You may need to use the repeat() function when building your dataset.\n",
            "20/20 [==============================] - 61s 3s/step - loss: 1.1916 - accuracy: 0.5758 - val_loss: 3.1702 - val_accuracy: 0.0963\n",
            "Epoch 2/10\n",
            "20/20 [==============================] - 56s 3s/step - loss: 1.2028 - accuracy: 0.5672\n",
            "Epoch 3/10\n",
            "20/20 [==============================] - 54s 3s/step - loss: 1.1997 - accuracy: 0.5844\n",
            "Epoch 4/10\n",
            "20/20 [==============================] - 54s 3s/step - loss: 1.0960 - accuracy: 0.6164\n",
            "Epoch 5/10\n",
            "20/20 [==============================] - 53s 3s/step - loss: 1.0310 - accuracy: 0.6450\n",
            "Epoch 6/10\n",
            "20/20 [==============================] - 55s 3s/step - loss: 0.8848 - accuracy: 0.6945\n",
            "Epoch 7/10\n",
            "20/20 [==============================] - 54s 3s/step - loss: 0.8167 - accuracy: 0.7023\n",
            "Epoch 8/10\n",
            "20/20 [==============================] - 56s 3s/step - loss: 0.8560 - accuracy: 0.7067\n",
            "Epoch 9/10\n",
            "20/20 [==============================] - 56s 3s/step - loss: 0.7642 - accuracy: 0.7289\n",
            "Epoch 10/10\n",
            "20/20 [==============================] - 56s 3s/step - loss: 0.7500 - accuracy: 0.7359\n",
            "2/2 [==============================] - 0s 187ms/step - loss: 2.2125 - accuracy: 0.3125\n",
            "Epoch 1/10\n",
            "20/20 [==============================] - ETA: 0s - loss: 0.7808 - accuracy: 0.7289WARNING:tensorflow:Your input ran out of data; interrupting training. Make sure that your dataset or generator can generate at least `steps_per_epoch * epochs` batches (in this case, 100 batches). You may need to use the repeat() function when building your dataset.\n",
            "20/20 [==============================] - 62s 3s/step - loss: 0.7808 - accuracy: 0.7289 - val_loss: 1.6667 - val_accuracy: 0.4667\n",
            "Epoch 2/10\n",
            "20/20 [==============================] - 56s 3s/step - loss: 0.7356 - accuracy: 0.7484\n",
            "Epoch 3/10\n",
            "20/20 [==============================] - 56s 3s/step - loss: 0.6377 - accuracy: 0.7836\n",
            "Epoch 4/10\n",
            "20/20 [==============================] - 56s 3s/step - loss: 0.6360 - accuracy: 0.7766\n",
            "Epoch 5/10\n",
            "20/20 [==============================] - 56s 3s/step - loss: 0.6292 - accuracy: 0.7711\n",
            "Epoch 6/10\n",
            "20/20 [==============================] - 56s 3s/step - loss: 0.5314 - accuracy: 0.8188\n",
            "Epoch 7/10\n",
            "20/20 [==============================] - 57s 3s/step - loss: 0.5033 - accuracy: 0.8242\n",
            "Epoch 8/10\n",
            "20/20 [==============================] - 54s 3s/step - loss: 0.4921 - accuracy: 0.8317\n",
            "Epoch 9/10\n",
            "20/20 [==============================] - 54s 3s/step - loss: 0.4926 - accuracy: 0.8253\n",
            "Epoch 10/10\n",
            "20/20 [==============================] - 56s 3s/step - loss: 0.4844 - accuracy: 0.8344\n",
            "2/2 [==============================] - 0s 181ms/step - loss: 0.6240 - accuracy: 0.8281\n",
            "Epoch 1/10\n",
            "20/20 [==============================] - ETA: 0s - loss: 0.5246 - accuracy: 0.8156WARNING:tensorflow:Your input ran out of data; interrupting training. Make sure that your dataset or generator can generate at least `steps_per_epoch * epochs` batches (in this case, 100 batches). You may need to use the repeat() function when building your dataset.\n",
            "20/20 [==============================] - 61s 3s/step - loss: 0.5246 - accuracy: 0.8156 - val_loss: 1.2955 - val_accuracy: 0.6315\n",
            "Epoch 2/10\n",
            "20/20 [==============================] - 53s 3s/step - loss: 0.4420 - accuracy: 0.8574\n",
            "Epoch 3/10\n",
            "20/20 [==============================] - 55s 3s/step - loss: 0.4283 - accuracy: 0.8648\n",
            "Epoch 4/10\n",
            "20/20 [==============================] - 55s 3s/step - loss: 0.4444 - accuracy: 0.8617\n",
            "Epoch 5/10\n",
            "20/20 [==============================] - 53s 3s/step - loss: 0.3742 - accuracy: 0.8734\n",
            "Epoch 6/10\n",
            "20/20 [==============================] - 54s 3s/step - loss: 0.3413 - accuracy: 0.8846\n",
            "Epoch 7/10\n",
            "20/20 [==============================] - 55s 3s/step - loss: 0.3307 - accuracy: 0.8969\n",
            "Epoch 8/10\n",
            "20/20 [==============================] - 55s 3s/step - loss: 0.3156 - accuracy: 0.8977\n",
            "Epoch 9/10\n",
            "20/20 [==============================] - 53s 3s/step - loss: 0.3111 - accuracy: 0.9006\n",
            "Epoch 10/10\n",
            "20/20 [==============================] - 55s 3s/step - loss: 0.2655 - accuracy: 0.9164\n",
            "2/2 [==============================] - 0s 182ms/step - loss: 0.5633 - accuracy: 0.8438\n",
            "Epoch 1/10\n",
            "20/20 [==============================] - ETA: 0s - loss: 0.2805 - accuracy: 0.9087WARNING:tensorflow:Your input ran out of data; interrupting training. Make sure that your dataset or generator can generate at least `steps_per_epoch * epochs` batches (in this case, 100 batches). You may need to use the repeat() function when building your dataset.\n",
            "20/20 [==============================] - 59s 3s/step - loss: 0.2805 - accuracy: 0.9087 - val_loss: 0.2628 - val_accuracy: 0.9167\n",
            "Epoch 2/10\n",
            "20/20 [==============================] - 55s 3s/step - loss: 0.2242 - accuracy: 0.9258\n",
            "Epoch 3/10\n",
            "20/20 [==============================] - 54s 3s/step - loss: 0.2357 - accuracy: 0.9247\n",
            "Epoch 4/10\n",
            "20/20 [==============================] - 56s 3s/step - loss: 0.2212 - accuracy: 0.9289\n",
            "Epoch 5/10\n",
            "20/20 [==============================] - 57s 3s/step - loss: 0.2220 - accuracy: 0.9305\n",
            "Epoch 6/10\n",
            "20/20 [==============================] - 56s 3s/step - loss: 0.1822 - accuracy: 0.9352\n",
            "Epoch 7/10\n",
            "20/20 [==============================] - 56s 3s/step - loss: 0.1841 - accuracy: 0.9414\n",
            "Epoch 8/10\n",
            "20/20 [==============================] - 56s 3s/step - loss: 0.1509 - accuracy: 0.9495\n",
            "Epoch 9/10\n",
            "20/20 [==============================] - 56s 3s/step - loss: 0.1746 - accuracy: 0.9461\n",
            "Epoch 10/10\n",
            "20/20 [==============================] - 57s 3s/step - loss: 0.1693 - accuracy: 0.9453\n",
            "2/2 [==============================] - 0s 181ms/step - loss: 0.8729 - accuracy: 0.7500\n",
            "Epoch 1/10\n",
            "20/20 [==============================] - ETA: 0s - loss: 0.1904 - accuracy: 0.9352WARNING:tensorflow:Your input ran out of data; interrupting training. Make sure that your dataset or generator can generate at least `steps_per_epoch * epochs` batches (in this case, 100 batches). You may need to use the repeat() function when building your dataset.\n",
            "20/20 [==============================] - 63s 3s/step - loss: 0.1904 - accuracy: 0.9352 - val_loss: 0.1658 - val_accuracy: 0.9537\n",
            "Epoch 2/10\n",
            "20/20 [==============================] - 55s 3s/step - loss: 0.1958 - accuracy: 0.9367\n",
            "Epoch 3/10\n",
            "20/20 [==============================] - 55s 3s/step - loss: 0.1761 - accuracy: 0.9484\n",
            "Epoch 4/10\n",
            "20/20 [==============================] - 55s 3s/step - loss: 0.1519 - accuracy: 0.9539\n",
            "Epoch 5/10\n",
            "20/20 [==============================] - 55s 3s/step - loss: 0.1496 - accuracy: 0.9516\n",
            "Epoch 6/10\n",
            "20/20 [==============================] - 55s 3s/step - loss: 0.1685 - accuracy: 0.9406\n",
            "Epoch 7/10\n",
            "20/20 [==============================] - 53s 3s/step - loss: 0.1246 - accuracy: 0.9567\n",
            "Epoch 8/10\n",
            "20/20 [==============================] - 55s 3s/step - loss: 0.1338 - accuracy: 0.9570\n",
            "Epoch 9/10\n",
            "20/20 [==============================] - 55s 3s/step - loss: 0.1331 - accuracy: 0.9539\n",
            "Epoch 10/10\n",
            "20/20 [==============================] - 58s 3s/step - loss: 0.1203 - accuracy: 0.9641\n",
            "2/2 [==============================] - 0s 184ms/step - loss: 0.3908 - accuracy: 0.8906\n",
            "Epoch 1/10\n",
            "20/20 [==============================] - ETA: 0s - loss: 0.1224 - accuracy: 0.9648WARNING:tensorflow:Your input ran out of data; interrupting training. Make sure that your dataset or generator can generate at least `steps_per_epoch * epochs` batches (in this case, 100 batches). You may need to use the repeat() function when building your dataset.\n",
            "20/20 [==============================] - 62s 3s/step - loss: 0.1224 - accuracy: 0.9648 - val_loss: 0.2476 - val_accuracy: 0.9148\n",
            "Epoch 2/10\n",
            "20/20 [==============================] - 54s 3s/step - loss: 0.1277 - accuracy: 0.9602\n",
            "Epoch 3/10\n",
            "20/20 [==============================] - 54s 3s/step - loss: 0.1052 - accuracy: 0.9602\n",
            "Epoch 4/10\n",
            "20/20 [==============================] - 55s 3s/step - loss: 0.0868 - accuracy: 0.9719\n",
            "Epoch 5/10\n",
            "20/20 [==============================] - 55s 3s/step - loss: 0.0872 - accuracy: 0.9680\n",
            "Epoch 6/10\n",
            "20/20 [==============================] - 54s 3s/step - loss: 0.0931 - accuracy: 0.9688\n",
            "Epoch 7/10\n",
            "20/20 [==============================] - 56s 3s/step - loss: 0.0557 - accuracy: 0.9824\n",
            "Epoch 8/10\n",
            "20/20 [==============================] - 57s 3s/step - loss: 0.0717 - accuracy: 0.9789\n",
            "Epoch 9/10\n",
            "20/20 [==============================] - 56s 3s/step - loss: 0.0563 - accuracy: 0.9781\n",
            "Epoch 10/10\n",
            "20/20 [==============================] - 53s 3s/step - loss: 0.0498 - accuracy: 0.9856\n",
            "2/2 [==============================] - 0s 182ms/step - loss: 0.1956 - accuracy: 0.9375\n",
            "Epoch 1/10\n",
            "20/20 [==============================] - ETA: 0s - loss: 0.0572 - accuracy: 0.9820WARNING:tensorflow:Your input ran out of data; interrupting training. Make sure that your dataset or generator can generate at least `steps_per_epoch * epochs` batches (in this case, 100 batches). You may need to use the repeat() function when building your dataset.\n",
            "20/20 [==============================] - 65s 3s/step - loss: 0.0572 - accuracy: 0.9820 - val_loss: 0.5516 - val_accuracy: 0.8630\n",
            "Epoch 2/10\n",
            "20/20 [==============================] - 59s 3s/step - loss: 0.0922 - accuracy: 0.9719\n",
            "Epoch 3/10\n",
            "20/20 [==============================] - 57s 3s/step - loss: 0.0934 - accuracy: 0.9663\n",
            "Epoch 4/10\n",
            "20/20 [==============================] - 56s 3s/step - loss: 0.0841 - accuracy: 0.9703\n",
            "Epoch 5/10\n",
            "20/20 [==============================] - 55s 3s/step - loss: 0.0533 - accuracy: 0.9875\n",
            "Epoch 6/10\n",
            "20/20 [==============================] - 54s 3s/step - loss: 0.0636 - accuracy: 0.9808\n",
            "Epoch 7/10\n",
            "20/20 [==============================] - 55s 3s/step - loss: 0.0806 - accuracy: 0.9758\n",
            "Epoch 8/10\n",
            "20/20 [==============================] - 54s 3s/step - loss: 0.0629 - accuracy: 0.9816\n",
            "Epoch 9/10\n",
            "20/20 [==============================] - 55s 3s/step - loss: 0.0606 - accuracy: 0.9836\n",
            "Epoch 10/10\n",
            "20/20 [==============================] - 54s 3s/step - loss: 0.0592 - accuracy: 0.9832\n",
            "2/2 [==============================] - 0s 187ms/step - loss: 0.0861 - accuracy: 0.9531\n",
            "Epoch 1/10\n",
            "20/20 [==============================] - ETA: 0s - loss: 0.0686 - accuracy: 0.9797WARNING:tensorflow:Your input ran out of data; interrupting training. Make sure that your dataset or generator can generate at least `steps_per_epoch * epochs` batches (in this case, 100 batches). You may need to use the repeat() function when building your dataset.\n",
            "20/20 [==============================] - 63s 3s/step - loss: 0.0686 - accuracy: 0.9797 - val_loss: 0.0488 - val_accuracy: 0.9870\n",
            "Epoch 2/10\n",
            "20/20 [==============================] - 56s 3s/step - loss: 0.0612 - accuracy: 0.9828\n",
            "Epoch 3/10\n",
            "20/20 [==============================] - 55s 3s/step - loss: 0.0490 - accuracy: 0.9832\n",
            "Epoch 4/10\n",
            "20/20 [==============================] - 55s 3s/step - loss: 0.0622 - accuracy: 0.9824\n",
            "Epoch 5/10\n",
            "20/20 [==============================] - 55s 3s/step - loss: 0.0427 - accuracy: 0.9883\n",
            "Epoch 6/10\n",
            "20/20 [==============================] - 56s 3s/step - loss: 0.0584 - accuracy: 0.9820\n",
            "Epoch 7/10\n",
            "20/20 [==============================] - 56s 3s/step - loss: 0.0309 - accuracy: 0.9898\n",
            "Epoch 8/10\n",
            "20/20 [==============================] - 54s 3s/step - loss: 0.0419 - accuracy: 0.9875\n",
            "Epoch 9/10\n",
            "20/20 [==============================] - 55s 3s/step - loss: 0.0572 - accuracy: 0.9836\n",
            "Epoch 10/10\n",
            "20/20 [==============================] - 56s 3s/step - loss: 0.0652 - accuracy: 0.9766\n",
            "2/2 [==============================] - 0s 182ms/step - loss: 1.2307 - accuracy: 0.8125\n",
            "Epoch 1/10\n",
            "20/20 [==============================] - ETA: 0s - loss: 0.0532 - accuracy: 0.9805WARNING:tensorflow:Your input ran out of data; interrupting training. Make sure that your dataset or generator can generate at least `steps_per_epoch * epochs` batches (in this case, 100 batches). You may need to use the repeat() function when building your dataset.\n",
            "20/20 [==============================] - 62s 3s/step - loss: 0.0532 - accuracy: 0.9805 - val_loss: 1.5958 - val_accuracy: 0.7352\n",
            "Epoch 2/10\n",
            "20/20 [==============================] - 55s 3s/step - loss: 0.0564 - accuracy: 0.9750\n",
            "Epoch 3/10\n",
            "20/20 [==============================] - 54s 3s/step - loss: 0.0609 - accuracy: 0.9808\n",
            "Epoch 4/10\n",
            "20/20 [==============================] - 55s 3s/step - loss: 0.0910 - accuracy: 0.9719\n",
            "Epoch 5/10\n",
            "20/20 [==============================] - 53s 3s/step - loss: 0.0822 - accuracy: 0.9720\n",
            "Epoch 6/10\n",
            "20/20 [==============================] - 55s 3s/step - loss: 0.0774 - accuracy: 0.9797\n",
            "Epoch 7/10\n",
            "20/20 [==============================] - 53s 3s/step - loss: 0.0858 - accuracy: 0.9752\n",
            "Epoch 8/10\n",
            "20/20 [==============================] - 55s 3s/step - loss: 0.0578 - accuracy: 0.9766\n",
            "Epoch 9/10\n",
            "20/20 [==============================] - 55s 3s/step - loss: 0.0291 - accuracy: 0.9891\n",
            "Epoch 10/10\n",
            "20/20 [==============================] - 55s 3s/step - loss: 0.0290 - accuracy: 0.9914\n",
            "2/2 [==============================] - 0s 191ms/step - loss: 0.3402 - accuracy: 0.9062\n"
          ],
          "name": "stdout"
        }
      ]
    },
    {
      "cell_type": "markdown",
      "metadata": {
        "id": "DbzYrWzWnfVN",
        "colab_type": "text"
      },
      "source": [
        "Plotting Training Accuracy and Loss "
      ]
    },
    {
      "cell_type": "code",
      "metadata": {
        "id": "C9YBzctKmgVr",
        "colab_type": "code",
        "colab": {}
      },
      "source": [
        "acc = history.history['accuracy']\n",
        "\n",
        "loss = history.history['loss']"
      ],
      "execution_count": 37,
      "outputs": []
    },
    {
      "cell_type": "code",
      "metadata": {
        "id": "QfpK-jhPnRst",
        "colab_type": "code",
        "colab": {
          "base_uri": "https://localhost:8080/",
          "height": 513
        },
        "outputId": "d99458f2-6449-4985-cd2f-6b001cbbfc82"
      },
      "source": [
        "plt.figure(figsize=(8, 8))\n",
        "plt.subplot(2, 1, 1)\n",
        "plt.plot(acc, label='Training Accuracy')\n",
        "plt.legend(loc='lower right')\n",
        "plt.ylabel('Accuracy')\n",
        "plt.ylim([min(plt.ylim()),1])\n",
        "plt.title('Training Accuracy')\n",
        "\n",
        "plt.subplot(2, 1, 2)\n",
        "plt.plot(loss, label='Training Loss')\n",
        "plt.legend(loc='upper right')\n",
        "plt.ylabel('Cross Entropy')\n",
        "plt.ylim([0,4.0])\n",
        "plt.title('Training Loss')\n",
        "plt.xlabel('epoch')\n",
        "plt.show()"
      ],
      "execution_count": 38,
      "outputs": [
        {
          "output_type": "display_data",
          "data": {
            "image/png": "[encoded data removed]",
            "text/plain": [
              "<Figure size 576x576 with 2 Axes>"
            ]
          },
          "metadata": {
            "tags": [],
            "needs_background": "light"
          }
        }
      ]
    },
    {
      "cell_type": "markdown",
      "metadata": {
        "id": "9v82wCzeyQTK",
        "colab_type": "text"
      },
      "source": [
        "Determining the Mean Accuracy and Loss on the Validation Set"
      ]
    },
    {
      "cell_type": "code",
      "metadata": {
        "id": "zvJdMucbyFrH",
        "colab_type": "code",
        "colab": {
          "base_uri": "https://localhost:8080/",
          "height": 187
        },
        "outputId": "76825eb0-4e65-44ac-c76a-39ce86acee46"
      },
      "source": [
        "validation_accuracy_k10"
      ],
      "execution_count": 39,
      "outputs": [
        {
          "output_type": "execute_result",
          "data": {
            "text/plain": [
              "[0.15625,\n",
              " 0.3125,\n",
              " 0.828125,\n",
              " 0.84375,\n",
              " 0.75,\n",
              " 0.890625,\n",
              " 0.9375,\n",
              " 0.953125,\n",
              " 0.8125,\n",
              " 0.90625]"
            ]
          },
          "metadata": {
            "tags": []
          },
          "execution_count": 39
        }
      ]
    },
    {
      "cell_type": "code",
      "metadata": {
        "id": "ymuogaajzjpZ",
        "colab_type": "code",
        "colab": {
          "base_uri": "https://localhost:8080/",
          "height": 187
        },
        "outputId": "5c5eadc5-2fbf-4238-c373-1fecaef895b6"
      },
      "source": [
        "validation_loss_k10"
      ],
      "execution_count": 40,
      "outputs": [
        {
          "output_type": "execute_result",
          "data": {
            "text/plain": [
              "[2.7942121028900146,\n",
              " 2.212526321411133,\n",
              " 0.6239731311798096,\n",
              " 0.563250720500946,\n",
              " 0.8728958368301392,\n",
              " 0.3907765746116638,\n",
              " 0.19561173021793365,\n",
              " 0.08605296909809113,\n",
              " 1.2306711673736572,\n",
              " 0.340165913105011]"
            ]
          },
          "metadata": {
            "tags": []
          },
          "execution_count": 40
        }
      ]
    },
    {
      "cell_type": "code",
      "metadata": {
        "id": "JdGEpBEfzlQm",
        "colab_type": "code",
        "colab": {}
      },
      "source": [
        "from statistics import mean\n",
        "mean_accuracy=mean(validation_accuracy_k10)\n",
        "mean_loss=mean(validation_loss_k10)"
      ],
      "execution_count": 41,
      "outputs": []
    },
    {
      "cell_type": "code",
      "metadata": {
        "id": "-aqt5CkyzqQU",
        "colab_type": "code",
        "colab": {
          "base_uri": "https://localhost:8080/",
          "height": 51
        },
        "outputId": "da1b1b1c-e4ea-463c-b2dd-962da6c2a4e8"
      },
      "source": [
        "print(\"Mean validation Accuracy value: \",mean_accuracy*100,\"%\")\n",
        "print(\"Mean validation loss value: \",mean_loss)"
      ],
      "execution_count": 42,
      "outputs": [
        {
          "output_type": "stream",
          "text": [
            "Mean validation Accuracy value:  73.90625 %\n",
            "Mean validation loss value:  0.93101364672184\n"
          ],
          "name": "stdout"
        }
      ]
    }
  ]
}