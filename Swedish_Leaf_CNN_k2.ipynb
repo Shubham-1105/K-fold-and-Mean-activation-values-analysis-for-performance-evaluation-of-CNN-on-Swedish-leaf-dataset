{
  "nbformat": 4,
  "nbformat_minor": 0,
  "metadata": {
    "colab": {
      "name": " Swedish_Leaf_CNN_k2",
      "provenance": [],
      "collapsed_sections": []
    },
    "kernelspec": {
      "name": "python3",
      "display_name": "Python 3"
    }
  },
  "cells": [
    {
      "cell_type": "code",
      "metadata": {
        "id": "pZPLL4iKc0EM",
        "colab_type": "code",
        "colab": {
          "base_uri": "https://localhost:8080/",
          "height": 35
        },
        "outputId": "0df581e3-2be6-40ad-a9e3-7d08275cf948"
      },
      "source": [
        "import tensorflow as tf\n",
        "import matplotlib.pyplot as plt\n",
        "import numpy as np\n",
        "import glob\n",
        "from tensorflow.keras.preprocessing.image import ImageDataGenerator\n",
        "import os\n",
        "from sklearn.model_selection import KFold,StratifiedKFold\n",
        "import random\n",
        "%matplotlib inline\n",
        "tf.__version__"
      ],
      "execution_count": 1,
      "outputs": [
        {
          "output_type": "execute_result",
          "data": {
            "application/vnd.google.colaboratory.intrinsic+json": {
              "type": "string"
            },
            "text/plain": [
              "'2.3.0'"
            ]
          },
          "metadata": {
            "tags": []
          },
          "execution_count": 1
        }
      ]
    },
    {
      "cell_type": "code",
      "metadata": {
        "id": "ylGsSqpgAaBl",
        "colab_type": "code",
        "colab": {
          "base_uri": "https://localhost:8080/",
          "height": 122
        },
        "outputId": "fc008e53-e950-412b-e26c-a3d4173430bc"
      },
      "source": [
        "from google.colab import drive\n",
        "drive.mount('/content/drive')"
      ],
      "execution_count": 2,
      "outputs": [
        {
          "output_type": "stream",
          "text": [
            "Go to this URL in a browser: https://accounts.google.com/o/oauth2/auth?client_id=947318989803-6bn6qk8qdgf4n4g3pfee6491hc0brc4i.apps.googleusercontent.com&redirect_uri=urn%3aietf%3awg%3aoauth%3a2.0%3aoob&response_type=code&scope=email%20https%3a%2f%2fwww.googleapis.com%2fauth%2fdocs.test%20https%3a%2f%2fwww.googleapis.com%2fauth%2fdrive%20https%3a%2f%2fwww.googleapis.com%2fauth%2fdrive.photos.readonly%20https%3a%2f%2fwww.googleapis.com%2fauth%2fpeopleapi.readonly\n",
            "\n",
            "Enter your authorization code:\n",
            "··········\n",
            "Mounted at /content/drive\n"
          ],
          "name": "stdout"
        }
      ]
    },
    {
      "cell_type": "code",
      "metadata": {
        "id": "svtiI-4yAaYQ",
        "colab_type": "code",
        "colab": {
          "base_uri": "https://localhost:8080/",
          "height": 34
        },
        "outputId": "0f05be2c-2432-479d-b896-685fca5ff64b"
      },
      "source": [
        "%cd 'drive/My Drive/Swedish Leaf'"
      ],
      "execution_count": 3,
      "outputs": [
        {
          "output_type": "stream",
          "text": [
            "/content/drive/My Drive/Swedish Leaf\n"
          ],
          "name": "stdout"
        }
      ]
    },
    {
      "cell_type": "code",
      "metadata": {
        "id": "bssV66ChuEu4",
        "colab_type": "code",
        "colab": {}
      },
      "source": [
        "import glob\n",
        "Leaf1 = glob.glob('./Leaf1/*.*')\n",
        "Leaf2 = glob.glob('./Leaf2/*.*')\n",
        "Leaf3 = glob.glob('./Leaf3/*.*')\n",
        "Leaf4 = glob.glob('./Leaf4/*.*')\n",
        "Leaf5 = glob.glob('./Leaf5/*.*')\n",
        "Leaf6 = glob.glob('./Leaf6/*.*')\n",
        "Leaf7 = glob.glob('./Leaf7/*.*')\n",
        "Leaf8 = glob.glob('./Leaf8/*.*')\n",
        "Leaf9 = glob.glob('./Leaf9/*.*')\n",
        "Leaf10 = glob.glob('./Leaf10/*.*')\n",
        "Leaf11= glob.glob('./Leaf11/*.*')\n",
        "Leaf12= glob.glob('./Leaf12/*.*')\n",
        "Leaf13= glob.glob('./Leaf13/*.*')\n",
        "Leaf14= glob.glob('./Leaf14/*.*')\n",
        "Leaf15= glob.glob('./Leaf15/*.*')\n",
        "\n",
        "data = []\n",
        "labels = []"
      ],
      "execution_count": 4,
      "outputs": []
    },
    {
      "cell_type": "code",
      "metadata": {
        "id": "oi_ijhEPv2mU",
        "colab_type": "code",
        "colab": {}
      },
      "source": [
        "from tensorflow.keras.preprocessing.image import load_img,img_to_array"
      ],
      "execution_count": 5,
      "outputs": []
    },
    {
      "cell_type": "code",
      "metadata": {
        "id": "494uI5OduzYM",
        "colab_type": "code",
        "colab": {}
      },
      "source": [
        "for i in Leaf1:   \n",
        "    image=load_img(i)\n",
        "    img_arr=img_to_array(image)\n",
        "    data.append(img_arr)\n",
        "    labels.append(0)"
      ],
      "execution_count": 6,
      "outputs": []
    },
    {
      "cell_type": "code",
      "metadata": {
        "id": "nOa8gIvwxbAK",
        "colab_type": "code",
        "colab": {}
      },
      "source": [
        "for i in Leaf2:   \n",
        "    image=load_img(i)\n",
        "    img_arr=img_to_array(image)\n",
        "    data.append(img_arr)\n",
        "    labels.append(1)"
      ],
      "execution_count": 7,
      "outputs": []
    },
    {
      "cell_type": "code",
      "metadata": {
        "id": "mawLIf3uxaag",
        "colab_type": "code",
        "colab": {}
      },
      "source": [
        "for i in Leaf3:   \n",
        "    image=load_img(i)\n",
        "    img_arr=img_to_array(image)\n",
        "    data.append(img_arr)\n",
        "    labels.append(2)"
      ],
      "execution_count": 8,
      "outputs": []
    },
    {
      "cell_type": "code",
      "metadata": {
        "id": "VfM8Ztozx5iL",
        "colab_type": "code",
        "colab": {}
      },
      "source": [
        "for i in Leaf4:   \n",
        "    image=load_img(i)\n",
        "    img_arr=img_to_array(image)\n",
        "    data.append(img_arr)\n",
        "    labels.append(3)"
      ],
      "execution_count": 9,
      "outputs": []
    },
    {
      "cell_type": "code",
      "metadata": {
        "id": "xKk5nGsXx6ZI",
        "colab_type": "code",
        "colab": {}
      },
      "source": [
        "for i in Leaf5:   \n",
        "    image=load_img(i)\n",
        "    img_arr=img_to_array(image)\n",
        "    data.append(img_arr)\n",
        "    labels.append(4)"
      ],
      "execution_count": 10,
      "outputs": []
    },
    {
      "cell_type": "code",
      "metadata": {
        "id": "k2kJwQVWx6wB",
        "colab_type": "code",
        "colab": {}
      },
      "source": [
        "for i in Leaf6:   \n",
        "    image=load_img(i)\n",
        "    img_arr=img_to_array(image)\n",
        "    data.append(img_arr)\n",
        "    labels.append(5)"
      ],
      "execution_count": 11,
      "outputs": []
    },
    {
      "cell_type": "code",
      "metadata": {
        "id": "xa5kbHKOx6Id",
        "colab_type": "code",
        "colab": {}
      },
      "source": [
        "for i in Leaf7:   \n",
        "    image=load_img(i)\n",
        "    img_arr=img_to_array(image)\n",
        "    data.append(img_arr)\n",
        "    labels.append(6)"
      ],
      "execution_count": 12,
      "outputs": []
    },
    {
      "cell_type": "code",
      "metadata": {
        "id": "KLSHxx5Y2EDL",
        "colab_type": "code",
        "colab": {}
      },
      "source": [
        "for i in Leaf8:   \n",
        "    image=load_img(i)\n",
        "    img_arr=img_to_array(image)\n",
        "    data.append(img_arr)\n",
        "    labels.append(7)"
      ],
      "execution_count": 13,
      "outputs": []
    },
    {
      "cell_type": "code",
      "metadata": {
        "id": "Y62fvkUG2Evm",
        "colab_type": "code",
        "colab": {}
      },
      "source": [
        "for i in Leaf9:   \n",
        "    image=load_img(i)\n",
        "    img_arr=img_to_array(image)\n",
        "    data.append(img_arr)\n",
        "    labels.append(8)"
      ],
      "execution_count": 14,
      "outputs": []
    },
    {
      "cell_type": "code",
      "metadata": {
        "id": "FfInGUQL2Fer",
        "colab_type": "code",
        "colab": {}
      },
      "source": [
        "for i in Leaf10:   \n",
        "    image=load_img(i)\n",
        "    img_arr=img_to_array(image)\n",
        "    data.append(img_arr)\n",
        "    labels.append(9)"
      ],
      "execution_count": 15,
      "outputs": []
    },
    {
      "cell_type": "code",
      "metadata": {
        "id": "OiOFqNlE2FHO",
        "colab_type": "code",
        "colab": {}
      },
      "source": [
        "for i in Leaf11:   \n",
        "    image=load_img(i)\n",
        "    img_arr=img_to_array(image)\n",
        "    data.append(img_arr)\n",
        "    labels.append(10)"
      ],
      "execution_count": 16,
      "outputs": []
    },
    {
      "cell_type": "code",
      "metadata": {
        "id": "2oN7p4f22Edh",
        "colab_type": "code",
        "colab": {}
      },
      "source": [
        "for i in Leaf12:   \n",
        "    image=load_img(i)\n",
        "    img_arr=img_to_array(image)\n",
        "    data.append(img_arr)\n",
        "    labels.append(11)"
      ],
      "execution_count": 17,
      "outputs": []
    },
    {
      "cell_type": "code",
      "metadata": {
        "id": "MpK4ZoxLx5TY",
        "colab_type": "code",
        "colab": {}
      },
      "source": [
        "for i in Leaf13:   \n",
        "    image=load_img(i)\n",
        "    img_arr=img_to_array(image)\n",
        "    data.append(img_arr)\n",
        "    labels.append(12)"
      ],
      "execution_count": 18,
      "outputs": []
    },
    {
      "cell_type": "code",
      "metadata": {
        "id": "PlVqxuyHxpdE",
        "colab_type": "code",
        "colab": {}
      },
      "source": [
        "for i in Leaf14:   \n",
        "    image=load_img(i)\n",
        "    img_arr=img_to_array(image)\n",
        "    data.append(img_arr)\n",
        "    labels.append(13)"
      ],
      "execution_count": 19,
      "outputs": []
    },
    {
      "cell_type": "code",
      "metadata": {
        "id": "kPDu8lzV2spr",
        "colab_type": "code",
        "colab": {}
      },
      "source": [
        "for i in Leaf15:   \n",
        "    image=load_img(i)\n",
        "    img_arr=img_to_array(image)\n",
        "    data.append(img_arr)\n",
        "    labels.append(14)"
      ],
      "execution_count": 20,
      "outputs": []
    },
    {
      "cell_type": "code",
      "metadata": {
        "id": "jZQnJDma_qqJ",
        "colab_type": "code",
        "colab": {}
      },
      "source": [
        "skf=StratifiedKFold(n_splits=5,shuffle=True,random_state=random.randint(0,100))"
      ],
      "execution_count": 21,
      "outputs": []
    },
    {
      "cell_type": "code",
      "metadata": {
        "id": "TQ8UHUXb_rPw",
        "colab_type": "code",
        "colab": {}
      },
      "source": [
        "idg=ImageDataGenerator(rescale=1./255)"
      ],
      "execution_count": 22,
      "outputs": []
    },
    {
      "cell_type": "code",
      "metadata": {
        "id": "wNaGq2Ik_q_G",
        "colab_type": "code",
        "colab": {}
      },
      "source": [
        "def get_model_name(k):\n",
        "    return 'model_'+str(k)+'.h5'"
      ],
      "execution_count": 23,
      "outputs": []
    },
    {
      "cell_type": "code",
      "metadata": {
        "id": "afKGr-LieVNw",
        "colab_type": "code",
        "colab": {}
      },
      "source": [
        "from keras.utils.np_utils import to_categorical   \n",
        "\n",
        "categorical_labels = to_categorical(labels, num_classes=15)"
      ],
      "execution_count": 24,
      "outputs": []
    },
    {
      "cell_type": "code",
      "metadata": {
        "id": "_IeZdGfYeUVR",
        "colab_type": "code",
        "colab": {
          "base_uri": "https://localhost:8080/",
          "height": 34
        },
        "outputId": "12149e80-e3b3-4615-fda9-4705f2df5784"
      },
      "source": [
        "data1 = np.array(data)\n",
        "print(data1.shape)"
      ],
      "execution_count": 25,
      "outputs": [
        {
          "output_type": "stream",
          "text": [
            "(6000, 128, 128, 3)\n"
          ],
          "name": "stdout"
        }
      ]
    },
    {
      "cell_type": "code",
      "metadata": {
        "id": "1e2sfGw3DBWE",
        "colab_type": "code",
        "colab": {}
      },
      "source": [
        "from sklearn.model_selection import train_test_split\n",
        "\n",
        "X_train1, X_test0, ytrain1, ytest0 = train_test_split(data1, categorical_labels, test_size=0.1,\n",
        "                                                    random_state=random.randint(0,100))"
      ],
      "execution_count": 26,
      "outputs": []
    },
    {
      "cell_type": "code",
      "metadata": {
        "id": "mDwpf5jYDBt1",
        "colab_type": "code",
        "colab": {}
      },
      "source": [
        "train_datagen=ImageDataGenerator(rescale=1./255)\n",
        "val_datagen = ImageDataGenerator(rescale=1./255)\n",
        "test_datagen = ImageDataGenerator(rescale=1./255)"
      ],
      "execution_count": 27,
      "outputs": []
    },
    {
      "cell_type": "code",
      "metadata": {
        "colab_type": "code",
        "id": "OVtFc-bwIlYZ",
        "colab": {}
      },
      "source": [
        "model=tf.keras.models.Sequential()\n",
        "model.add(tf.keras.layers.Conv2D(32,(5,5),strides=(1,1),padding='same',activation='relu',input_shape=[128,128,3]))\n",
        "model.add(tf.keras.layers.MaxPool2D(pool_size=(2,2),padding='same'))\n",
        "  \n",
        "model.add(tf.keras.layers.Conv2D(64,(5,5),activation='relu',padding='same',strides=(1,1)))\n",
        "model.add(tf.keras.layers.MaxPool2D(pool_size=(2,2),padding='same'))\n",
        "model.add(tf.keras.layers.BatchNormalization())\n",
        "\n",
        "model.add(tf.keras.layers.Conv2D(96,(3,3),activation='relu',strides=(2,2),padding='same'))\n",
        "model.add(tf.keras.layers.MaxPool2D(pool_size=(2,2),padding='valid'))\n",
        "model.add(tf.keras.layers.BatchNormalization())\n",
        "\n",
        "model.add(tf.keras.layers.Flatten())\n",
        "model.add(tf.keras.layers.Dense(units=100,activation='relu'))\n",
        "model.add(tf.keras.layers.Dense(units=100,activation='relu'))\n",
        "model.add(tf.keras.layers.Dropout(0.25))\n",
        "\n",
        "model.add(tf.keras.layers.Dense(15,activation='softmax'))\n",
        "  \n",
        "model.compile(loss='categorical_crossentropy',optimizer='adam',metrics=['accuracy'])\n",
        "\n",
        "\n",
        "\n",
        "\n",
        " "
      ],
      "execution_count": 28,
      "outputs": []
    },
    {
      "cell_type": "markdown",
      "metadata": {
        "id": "-Musb_hTWr11",
        "colab_type": "text"
      },
      "source": [
        "K-Fold Cross Validation\n"
      ]
    },
    {
      "cell_type": "markdown",
      "metadata": {
        "id": "ChR5qNGyW0J3",
        "colab_type": "text"
      },
      "source": [
        "For K=2 Folds\n"
      ]
    },
    {
      "cell_type": "code",
      "metadata": {
        "id": "5QPP_QNuYBCa",
        "colab_type": "code",
        "colab": {}
      },
      "source": [
        "validation_accuracy_k2=[]\n",
        "validation_loss_k2=[]\n",
        "fold_var=1"
      ],
      "execution_count": 29,
      "outputs": []
    },
    {
      "cell_type": "code",
      "metadata": {
        "colab_type": "code",
        "id": "etZTCxp379u2",
        "colab": {
          "base_uri": "https://localhost:8080/",
          "height": 1000
        },
        "outputId": "adfdad20-9a19-4cea-e6d8-59783462bcf6"
      },
      "source": [
        "for index in range(2):#readings change for every epoch\n",
        "    \n",
        "    X_train, X_test1, ytrain, ytest1 = train_test_split(X_train1, ytrain1, test_size=0.2,\n",
        "                                                    random_state=random.randint(0,100))\n",
        "    \n",
        "    X_val, X_test, yval, ytest = train_test_split(X_test1, ytest1, test_size=0.5,\n",
        "                                                    random_state=random.randint(0,100))\n",
        "    \n",
        "    \n",
        "    \n",
        "    \n",
        "   \n",
        "  \n",
        "    \n",
        "    training_set = train_datagen.flow(\n",
        "            X_train, ytrain,\n",
        "            batch_size=64)\n",
        "    \n",
        "    val_set = val_datagen.flow(\n",
        "            X_val, yval, \n",
        "            batch_size=64)\n",
        "    \n",
        "    test_set = test_datagen.flow(\n",
        "            X_test, ytest,\n",
        "            batch_size=64)\n",
        "    \n",
        "    X, y = test_set.next()\n",
        "    history=model.fit_generator(\n",
        "            training_set,\n",
        "            steps_per_epoch=20,\n",
        "            epochs=15,\n",
        "            validation_data=val_set,\n",
        "            validation_steps=100)\n",
        "     \n",
        "\n",
        "    \n",
        "    \n",
        "    results = model.evaluate(X,y)\n",
        "    results1=dict(zip(model.metrics_names,results))\n",
        "    validation_accuracy_k2.append(results1['accuracy'])\n",
        "    validation_loss_k2.append(results1['loss'])\n",
        "\n",
        "    tf.keras.backend.clear_session()\n",
        "    fold_var+=1\n",
        "    \n",
        "    "
      ],
      "execution_count": 30,
      "outputs": [
        {
          "output_type": "stream",
          "text": [
            "WARNING:tensorflow:From <ipython-input-30-47b8cf825ce3>:33: Model.fit_generator (from tensorflow.python.keras.engine.training) is deprecated and will be removed in a future version.\n",
            "Instructions for updating:\n",
            "Please use Model.fit, which supports generators.\n",
            "Epoch 1/15\n",
            "20/20 [==============================] - ETA: 0s - loss: 2.7036 - accuracy: 0.1562WARNING:tensorflow:Your input ran out of data; interrupting training. Make sure that your dataset or generator can generate at least `steps_per_epoch * epochs` batches (in this case, 100 batches). You may need to use the repeat() function when building your dataset.\n",
            "20/20 [==============================] - 63s 3s/step - loss: 2.7036 - accuracy: 0.1562 - val_loss: 2.6342 - val_accuracy: 0.1148\n",
            "Epoch 2/15\n",
            "20/20 [==============================] - 54s 3s/step - loss: 2.2583 - accuracy: 0.2628\n",
            "Epoch 3/15\n",
            "20/20 [==============================] - 55s 3s/step - loss: 2.0695 - accuracy: 0.3125\n",
            "Epoch 4/15\n",
            "20/20 [==============================] - 54s 3s/step - loss: 1.8918 - accuracy: 0.3694\n",
            "Epoch 5/15\n",
            "20/20 [==============================] - 56s 3s/step - loss: 1.7687 - accuracy: 0.4008\n",
            "Epoch 6/15\n",
            "20/20 [==============================] - 56s 3s/step - loss: 1.6559 - accuracy: 0.4305\n",
            "Epoch 7/15\n",
            "20/20 [==============================] - 55s 3s/step - loss: 1.5891 - accuracy: 0.4703\n",
            "Epoch 8/15\n",
            "20/20 [==============================] - 56s 3s/step - loss: 1.4496 - accuracy: 0.4961\n",
            "Epoch 9/15\n",
            "20/20 [==============================] - 56s 3s/step - loss: 1.3441 - accuracy: 0.5445\n",
            "Epoch 10/15\n",
            "20/20 [==============================] - 54s 3s/step - loss: 1.2821 - accuracy: 0.5385\n",
            "Epoch 11/15\n",
            "20/20 [==============================] - 57s 3s/step - loss: 1.1460 - accuracy: 0.5986\n",
            "Epoch 12/15\n",
            "20/20 [==============================] - 54s 3s/step - loss: 1.0826 - accuracy: 0.6258\n",
            "Epoch 13/15\n",
            "20/20 [==============================] - 54s 3s/step - loss: 1.0254 - accuracy: 0.6466\n",
            "Epoch 14/15\n",
            "20/20 [==============================] - 55s 3s/step - loss: 0.9875 - accuracy: 0.6602\n",
            "Epoch 15/15\n",
            "20/20 [==============================] - 54s 3s/step - loss: 0.9370 - accuracy: 0.6707\n",
            "2/2 [==============================] - 0s 200ms/step - loss: 3.0165 - accuracy: 0.2031\n",
            "Epoch 1/15\n",
            "20/20 [==============================] - ETA: 0s - loss: 0.9773 - accuracy: 0.6602WARNING:tensorflow:Your input ran out of data; interrupting training. Make sure that your dataset or generator can generate at least `steps_per_epoch * epochs` batches (in this case, 100 batches). You may need to use the repeat() function when building your dataset.\n",
            "20/20 [==============================] - 63s 3s/step - loss: 0.9773 - accuracy: 0.6602 - val_loss: 3.0836 - val_accuracy: 0.2130\n",
            "Epoch 2/15\n",
            "20/20 [==============================] - 54s 3s/step - loss: 0.8876 - accuracy: 0.7035\n",
            "Epoch 3/15\n",
            "20/20 [==============================] - 56s 3s/step - loss: 0.8480 - accuracy: 0.6992\n",
            "Epoch 4/15\n",
            "20/20 [==============================] - 55s 3s/step - loss: 0.8410 - accuracy: 0.6992\n",
            "Epoch 5/15\n",
            "20/20 [==============================] - 54s 3s/step - loss: 0.7406 - accuracy: 0.7468\n",
            "Epoch 6/15\n",
            "20/20 [==============================] - 57s 3s/step - loss: 0.7370 - accuracy: 0.7461\n",
            "Epoch 7/15\n",
            "20/20 [==============================] - 56s 3s/step - loss: 0.6806 - accuracy: 0.7641\n",
            "Epoch 8/15\n",
            "20/20 [==============================] - 54s 3s/step - loss: 0.6215 - accuracy: 0.7700\n",
            "Epoch 9/15\n",
            "20/20 [==============================] - 56s 3s/step - loss: 0.6182 - accuracy: 0.7820\n",
            "Epoch 10/15\n",
            "20/20 [==============================] - 56s 3s/step - loss: 0.5822 - accuracy: 0.7820\n",
            "Epoch 11/15\n",
            "20/20 [==============================] - 56s 3s/step - loss: 0.5556 - accuracy: 0.7945\n",
            "Epoch 12/15\n",
            "20/20 [==============================] - 56s 3s/step - loss: 0.5741 - accuracy: 0.7992\n",
            "Epoch 13/15\n",
            "20/20 [==============================] - 56s 3s/step - loss: 0.5345 - accuracy: 0.8148\n",
            "Epoch 14/15\n",
            "20/20 [==============================] - 55s 3s/step - loss: 0.4868 - accuracy: 0.8172\n",
            "Epoch 15/15\n",
            "20/20 [==============================] - 56s 3s/step - loss: 0.4483 - accuracy: 0.8336\n",
            "2/2 [==============================] - 0s 207ms/step - loss: 1.2437 - accuracy: 0.6250\n"
          ],
          "name": "stdout"
        }
      ]
    },
    {
      "cell_type": "code",
      "metadata": {
        "id": "mwAKfq8eopTq",
        "colab_type": "code",
        "colab": {
          "base_uri": "https://localhost:8080/",
          "height": 34
        },
        "outputId": "3747461a-c01f-4bdb-f51f-ce432c484d34"
      },
      "source": [
        "validation_accuracy_k2"
      ],
      "execution_count": 31,
      "outputs": [
        {
          "output_type": "execute_result",
          "data": {
            "text/plain": [
              "[0.203125, 0.625]"
            ]
          },
          "metadata": {
            "tags": []
          },
          "execution_count": 31
        }
      ]
    },
    {
      "cell_type": "code",
      "metadata": {
        "id": "05UOdOisop6L",
        "colab_type": "code",
        "colab": {
          "base_uri": "https://localhost:8080/",
          "height": 34
        },
        "outputId": "5237980f-a5be-431a-acd7-06dbb6b8c090"
      },
      "source": [
        "validation_loss_k2"
      ],
      "execution_count": 32,
      "outputs": [
        {
          "output_type": "execute_result",
          "data": {
            "text/plain": [
              "[3.016528367996216, 1.2437491416931152]"
            ]
          },
          "metadata": {
            "tags": []
          },
          "execution_count": 32
        }
      ]
    },
    {
      "cell_type": "code",
      "metadata": {
        "id": "Nh8WSm7loprc",
        "colab_type": "code",
        "colab": {}
      },
      "source": [
        "from statistics import mean\n",
        "mean_accuracy=mean(validation_accuracy_k2)\n",
        "mean_loss=mean(validation_loss_k2)"
      ],
      "execution_count": 34,
      "outputs": []
    },
    {
      "cell_type": "code",
      "metadata": {
        "id": "XxgHbTD7pUsb",
        "colab_type": "code",
        "colab": {
          "base_uri": "https://localhost:8080/",
          "height": 51
        },
        "outputId": "a0292fd7-e9d6-4f5a-cc75-752adb912b77"
      },
      "source": [
        "print(\"Mean Accuracy value: \",mean_accuracy*100,\"%\")\n",
        "print(\"Mean loss value: \",mean_loss)"
      ],
      "execution_count": 36,
      "outputs": [
        {
          "output_type": "stream",
          "text": [
            "Mean Accuracy value:  41.40625 %\n",
            "Mean loss value:  2.1301387548446655\n"
          ],
          "name": "stdout"
        }
      ]
    },
    {
      "cell_type": "markdown",
      "metadata": {
        "id": "DbzYrWzWnfVN",
        "colab_type": "text"
      },
      "source": [
        "Plotting Training Accuracy and Loss "
      ]
    },
    {
      "cell_type": "code",
      "metadata": {
        "id": "C9YBzctKmgVr",
        "colab_type": "code",
        "colab": {}
      },
      "source": [
        "acc = history.history['accuracy']\n",
        "\n",
        "loss = history.history['loss']"
      ],
      "execution_count": 40,
      "outputs": []
    },
    {
      "cell_type": "code",
      "metadata": {
        "id": "QfpK-jhPnRst",
        "colab_type": "code",
        "colab": {
          "base_uri": "https://localhost:8080/",
          "height": 513
        },
        "outputId": "c2f3e8c6-d47d-4c46-f91c-f903384d3526"
      },
      "source": [
        "plt.figure(figsize=(8, 8))\n",
        "plt.subplot(2, 1, 1)\n",
        "plt.plot(acc, label='Training Accuracy')\n",
        "plt.legend(loc='lower right')\n",
        "plt.ylabel('Accuracy')\n",
        "plt.ylim([min(plt.ylim()),1])\n",
        "plt.title('Training Accuracy')\n",
        "\n",
        "plt.subplot(2, 1, 2)\n",
        "plt.plot(loss, label='Training Loss')\n",
        "plt.legend(loc='upper right')\n",
        "plt.ylabel('Cross Entropy')\n",
        "plt.ylim([0,4.0])\n",
        "plt.title('Training Loss')\n",
        "plt.xlabel('epoch')\n",
        "plt.show()"
      ],
      "execution_count": 41,
      "outputs": [
        {
          "output_type": "display_data",
          "data": {
            "image/png": "[encoded data removed]",
            "text/plain": [
              "<Figure size 576x576 with 2 Axes>"
            ]
          },
          "metadata": {
            "tags": [],
            "needs_background": "light"
          }
        }
      ]
    }
  ]
}