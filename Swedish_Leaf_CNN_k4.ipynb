{
  "nbformat": 4,
  "nbformat_minor": 0,
  "metadata": {
    "colab": {
      "name": " Swedish_Leaf_CNN_k4",
      "provenance": [],
      "collapsed_sections": []
    },
    "kernelspec": {
      "name": "python3",
      "display_name": "Python 3"
    }
  },
  "cells": [
    {
      "cell_type": "code",
      "metadata": {
        "id": "pZPLL4iKc0EM",
        "colab_type": "code",
        "colab": {
          "base_uri": "https://localhost:8080/",
          "height": 35
        },
        "outputId": "0564293a-4d05-4b35-9d0a-15f6b8a7abfa"
      },
      "source": [
        "import tensorflow as tf\n",
        "import matplotlib.pyplot as plt\n",
        "import numpy as np\n",
        "import glob\n",
        "from tensorflow.keras.preprocessing.image import ImageDataGenerator\n",
        "import os\n",
        "from sklearn.model_selection import KFold,StratifiedKFold\n",
        "import random\n",
        "%matplotlib inline\n",
        "tf.__version__"
      ],
      "execution_count": 1,
      "outputs": [
        {
          "output_type": "execute_result",
          "data": {
            "application/vnd.google.colaboratory.intrinsic+json": {
              "type": "string"
            },
            "text/plain": [
              "'2.3.0'"
            ]
          },
          "metadata": {
            "tags": []
          },
          "execution_count": 1
        }
      ]
    },
    {
      "cell_type": "code",
      "metadata": {
        "id": "ylGsSqpgAaBl",
        "colab_type": "code",
        "colab": {
          "base_uri": "https://localhost:8080/",
          "height": 122
        },
        "outputId": "8a549814-f2a1-4e62-a8d8-561665ec4dbe"
      },
      "source": [
        "from google.colab import drive\n",
        "drive.mount('/content/drive')"
      ],
      "execution_count": 2,
      "outputs": [
        {
          "output_type": "stream",
          "text": [
            "Go to this URL in a browser: https://accounts.google.com/o/oauth2/auth?client_id=947318989803-6bn6qk8qdgf4n4g3pfee6491hc0brc4i.apps.googleusercontent.com&redirect_uri=urn%3aietf%3awg%3aoauth%3a2.0%3aoob&response_type=code&scope=email%20https%3a%2f%2fwww.googleapis.com%2fauth%2fdocs.test%20https%3a%2f%2fwww.googleapis.com%2fauth%2fdrive%20https%3a%2f%2fwww.googleapis.com%2fauth%2fdrive.photos.readonly%20https%3a%2f%2fwww.googleapis.com%2fauth%2fpeopleapi.readonly\n",
            "\n",
            "Enter your authorization code:\n",
            "··········\n",
            "Mounted at /content/drive\n"
          ],
          "name": "stdout"
        }
      ]
    },
    {
      "cell_type": "code",
      "metadata": {
        "id": "svtiI-4yAaYQ",
        "colab_type": "code",
        "colab": {
          "base_uri": "https://localhost:8080/",
          "height": 34
        },
        "outputId": "32ad762d-872a-45ce-e3ad-01cc8d79ba68"
      },
      "source": [
        "%cd 'drive/My Drive/Swedish Leaf'"
      ],
      "execution_count": 3,
      "outputs": [
        {
          "output_type": "stream",
          "text": [
            "/content/drive/My Drive/Swedish Leaf\n"
          ],
          "name": "stdout"
        }
      ]
    },
    {
      "cell_type": "code",
      "metadata": {
        "id": "bssV66ChuEu4",
        "colab_type": "code",
        "colab": {}
      },
      "source": [
        "import glob\n",
        "Leaf1 = glob.glob('./Leaf1/*.*')\n",
        "Leaf2 = glob.glob('./Leaf2/*.*')\n",
        "Leaf3 = glob.glob('./Leaf3/*.*')\n",
        "Leaf4 = glob.glob('./Leaf4/*.*')\n",
        "Leaf5 = glob.glob('./Leaf5/*.*')\n",
        "Leaf6 = glob.glob('./Leaf6/*.*')\n",
        "Leaf7 = glob.glob('./Leaf7/*.*')\n",
        "Leaf8 = glob.glob('./Leaf8/*.*')\n",
        "Leaf9 = glob.glob('./Leaf9/*.*')\n",
        "Leaf10 = glob.glob('./Leaf10/*.*')\n",
        "Leaf11= glob.glob('./Leaf11/*.*')\n",
        "Leaf12= glob.glob('./Leaf12/*.*')\n",
        "Leaf13= glob.glob('./Leaf13/*.*')\n",
        "Leaf14= glob.glob('./Leaf14/*.*')\n",
        "Leaf15= glob.glob('./Leaf15/*.*')\n",
        "\n",
        "data = []\n",
        "labels = []"
      ],
      "execution_count": 4,
      "outputs": []
    },
    {
      "cell_type": "code",
      "metadata": {
        "id": "oi_ijhEPv2mU",
        "colab_type": "code",
        "colab": {}
      },
      "source": [
        "from tensorflow.keras.preprocessing.image import load_img,img_to_array"
      ],
      "execution_count": 5,
      "outputs": []
    },
    {
      "cell_type": "code",
      "metadata": {
        "id": "494uI5OduzYM",
        "colab_type": "code",
        "colab": {}
      },
      "source": [
        "for i in Leaf1:   \n",
        "    image=load_img(i)\n",
        "    img_arr=img_to_array(image)\n",
        "    data.append(img_arr)\n",
        "    labels.append(0)"
      ],
      "execution_count": 6,
      "outputs": []
    },
    {
      "cell_type": "code",
      "metadata": {
        "id": "nOa8gIvwxbAK",
        "colab_type": "code",
        "colab": {}
      },
      "source": [
        "for i in Leaf2:   \n",
        "    image=load_img(i)\n",
        "    img_arr=img_to_array(image)\n",
        "    data.append(img_arr)\n",
        "    labels.append(1)"
      ],
      "execution_count": 7,
      "outputs": []
    },
    {
      "cell_type": "code",
      "metadata": {
        "id": "mawLIf3uxaag",
        "colab_type": "code",
        "colab": {}
      },
      "source": [
        "for i in Leaf3:   \n",
        "    image=load_img(i)\n",
        "    img_arr=img_to_array(image)\n",
        "    data.append(img_arr)\n",
        "    labels.append(2)"
      ],
      "execution_count": 8,
      "outputs": []
    },
    {
      "cell_type": "code",
      "metadata": {
        "id": "VfM8Ztozx5iL",
        "colab_type": "code",
        "colab": {}
      },
      "source": [
        "for i in Leaf4:   \n",
        "    image=load_img(i)\n",
        "    img_arr=img_to_array(image)\n",
        "    data.append(img_arr)\n",
        "    labels.append(3)"
      ],
      "execution_count": 9,
      "outputs": []
    },
    {
      "cell_type": "code",
      "metadata": {
        "id": "xKk5nGsXx6ZI",
        "colab_type": "code",
        "colab": {}
      },
      "source": [
        "for i in Leaf5:   \n",
        "    image=load_img(i)\n",
        "    img_arr=img_to_array(image)\n",
        "    data.append(img_arr)\n",
        "    labels.append(4)"
      ],
      "execution_count": 10,
      "outputs": []
    },
    {
      "cell_type": "code",
      "metadata": {
        "id": "k2kJwQVWx6wB",
        "colab_type": "code",
        "colab": {}
      },
      "source": [
        "for i in Leaf6:   \n",
        "    image=load_img(i)\n",
        "    img_arr=img_to_array(image)\n",
        "    data.append(img_arr)\n",
        "    labels.append(5)"
      ],
      "execution_count": 11,
      "outputs": []
    },
    {
      "cell_type": "code",
      "metadata": {
        "id": "xa5kbHKOx6Id",
        "colab_type": "code",
        "colab": {}
      },
      "source": [
        "for i in Leaf7:   \n",
        "    image=load_img(i)\n",
        "    img_arr=img_to_array(image)\n",
        "    data.append(img_arr)\n",
        "    labels.append(6)"
      ],
      "execution_count": 12,
      "outputs": []
    },
    {
      "cell_type": "code",
      "metadata": {
        "id": "KLSHxx5Y2EDL",
        "colab_type": "code",
        "colab": {}
      },
      "source": [
        "for i in Leaf8:   \n",
        "    image=load_img(i)\n",
        "    img_arr=img_to_array(image)\n",
        "    data.append(img_arr)\n",
        "    labels.append(7)"
      ],
      "execution_count": 13,
      "outputs": []
    },
    {
      "cell_type": "code",
      "metadata": {
        "id": "Y62fvkUG2Evm",
        "colab_type": "code",
        "colab": {}
      },
      "source": [
        "for i in Leaf9:   \n",
        "    image=load_img(i)\n",
        "    img_arr=img_to_array(image)\n",
        "    data.append(img_arr)\n",
        "    labels.append(8)"
      ],
      "execution_count": 14,
      "outputs": []
    },
    {
      "cell_type": "code",
      "metadata": {
        "id": "FfInGUQL2Fer",
        "colab_type": "code",
        "colab": {}
      },
      "source": [
        "for i in Leaf10:   \n",
        "    image=load_img(i)\n",
        "    img_arr=img_to_array(image)\n",
        "    data.append(img_arr)\n",
        "    labels.append(9)"
      ],
      "execution_count": 15,
      "outputs": []
    },
    {
      "cell_type": "code",
      "metadata": {
        "id": "OiOFqNlE2FHO",
        "colab_type": "code",
        "colab": {}
      },
      "source": [
        "for i in Leaf11:   \n",
        "    image=load_img(i)\n",
        "    img_arr=img_to_array(image)\n",
        "    data.append(img_arr)\n",
        "    labels.append(10)"
      ],
      "execution_count": 16,
      "outputs": []
    },
    {
      "cell_type": "code",
      "metadata": {
        "id": "2oN7p4f22Edh",
        "colab_type": "code",
        "colab": {}
      },
      "source": [
        "for i in Leaf12:   \n",
        "    image=load_img(i)\n",
        "    img_arr=img_to_array(image)\n",
        "    data.append(img_arr)\n",
        "    labels.append(11)"
      ],
      "execution_count": 17,
      "outputs": []
    },
    {
      "cell_type": "code",
      "metadata": {
        "id": "MpK4ZoxLx5TY",
        "colab_type": "code",
        "colab": {}
      },
      "source": [
        "for i in Leaf13:   \n",
        "    image=load_img(i)\n",
        "    img_arr=img_to_array(image)\n",
        "    data.append(img_arr)\n",
        "    labels.append(12)"
      ],
      "execution_count": 18,
      "outputs": []
    },
    {
      "cell_type": "code",
      "metadata": {
        "id": "PlVqxuyHxpdE",
        "colab_type": "code",
        "colab": {}
      },
      "source": [
        "for i in Leaf14:   \n",
        "    image=load_img(i)\n",
        "    img_arr=img_to_array(image)\n",
        "    data.append(img_arr)\n",
        "    labels.append(13)"
      ],
      "execution_count": 19,
      "outputs": []
    },
    {
      "cell_type": "code",
      "metadata": {
        "id": "kPDu8lzV2spr",
        "colab_type": "code",
        "colab": {}
      },
      "source": [
        "for i in Leaf15:   \n",
        "    image=load_img(i)\n",
        "    img_arr=img_to_array(image)\n",
        "    data.append(img_arr)\n",
        "    labels.append(14)"
      ],
      "execution_count": 20,
      "outputs": []
    },
    {
      "cell_type": "code",
      "metadata": {
        "id": "jZQnJDma_qqJ",
        "colab_type": "code",
        "colab": {}
      },
      "source": [
        "skf=StratifiedKFold(n_splits=5,shuffle=True,random_state=random.randint(0,100))"
      ],
      "execution_count": 21,
      "outputs": []
    },
    {
      "cell_type": "code",
      "metadata": {
        "id": "TQ8UHUXb_rPw",
        "colab_type": "code",
        "colab": {}
      },
      "source": [
        "idg=ImageDataGenerator(rescale=1./255)"
      ],
      "execution_count": 22,
      "outputs": []
    },
    {
      "cell_type": "code",
      "metadata": {
        "id": "wNaGq2Ik_q_G",
        "colab_type": "code",
        "colab": {}
      },
      "source": [
        "def get_model_name(k):\n",
        "    return 'model_'+str(k)+'.h5'"
      ],
      "execution_count": 23,
      "outputs": []
    },
    {
      "cell_type": "code",
      "metadata": {
        "id": "afKGr-LieVNw",
        "colab_type": "code",
        "colab": {}
      },
      "source": [
        "from keras.utils.np_utils import to_categorical   \n",
        "\n",
        "categorical_labels = to_categorical(labels, num_classes=15)"
      ],
      "execution_count": 24,
      "outputs": []
    },
    {
      "cell_type": "code",
      "metadata": {
        "id": "_IeZdGfYeUVR",
        "colab_type": "code",
        "colab": {
          "base_uri": "https://localhost:8080/",
          "height": 34
        },
        "outputId": "7e567f58-9b88-40f2-9f3c-62fc0fd905bb"
      },
      "source": [
        "data1 = np.array(data)\n",
        "print(data1.shape)"
      ],
      "execution_count": 25,
      "outputs": [
        {
          "output_type": "stream",
          "text": [
            "(6000, 128, 128, 3)\n"
          ],
          "name": "stdout"
        }
      ]
    },
    {
      "cell_type": "code",
      "metadata": {
        "id": "1e2sfGw3DBWE",
        "colab_type": "code",
        "colab": {}
      },
      "source": [
        "from sklearn.model_selection import train_test_split\n",
        "\n",
        "X_train1, X_test0, ytrain1, ytest0 = train_test_split(data1, categorical_labels, test_size=0.1,\n",
        "                                                    random_state=random.randint(0,100))"
      ],
      "execution_count": 26,
      "outputs": []
    },
    {
      "cell_type": "code",
      "metadata": {
        "id": "mDwpf5jYDBt1",
        "colab_type": "code",
        "colab": {}
      },
      "source": [
        "train_datagen=ImageDataGenerator(rescale=1./255)\n",
        "val_datagen = ImageDataGenerator(rescale=1./255)\n",
        "test_datagen = ImageDataGenerator(rescale=1./255)"
      ],
      "execution_count": 27,
      "outputs": []
    },
    {
      "cell_type": "code",
      "metadata": {
        "colab_type": "code",
        "id": "OVtFc-bwIlYZ",
        "colab": {}
      },
      "source": [
        "model=tf.keras.models.Sequential()\n",
        "model.add(tf.keras.layers.Conv2D(32,(5,5),strides=(1,1),padding='same',activation='relu',input_shape=[128,128,3]))\n",
        "model.add(tf.keras.layers.MaxPool2D(pool_size=(2,2),padding='same'))\n",
        "  \n",
        "model.add(tf.keras.layers.Conv2D(64,(5,5),activation='relu',padding='same',strides=(1,1)))\n",
        "model.add(tf.keras.layers.MaxPool2D(pool_size=(2,2),padding='same'))\n",
        "model.add(tf.keras.layers.BatchNormalization())\n",
        "\n",
        "model.add(tf.keras.layers.Conv2D(96,(3,3),activation='relu',strides=(2,2),padding='same'))\n",
        "model.add(tf.keras.layers.MaxPool2D(pool_size=(2,2),padding='valid'))\n",
        "model.add(tf.keras.layers.BatchNormalization())\n",
        "\n",
        "model.add(tf.keras.layers.Flatten())\n",
        "model.add(tf.keras.layers.Dense(units=100,activation='relu'))\n",
        "model.add(tf.keras.layers.Dense(units=100,activation='relu'))\n",
        "model.add(tf.keras.layers.Dropout(0.25))\n",
        "\n",
        "model.add(tf.keras.layers.Dense(15,activation='softmax'))\n",
        "  \n",
        "model.compile(loss='categorical_crossentropy',optimizer='adam',metrics=['accuracy'])\n",
        "\n",
        "\n",
        "\n",
        "\n",
        " "
      ],
      "execution_count": 28,
      "outputs": []
    },
    {
      "cell_type": "markdown",
      "metadata": {
        "id": "-Musb_hTWr11",
        "colab_type": "text"
      },
      "source": [
        "K-Fold Cross Validation\n"
      ]
    },
    {
      "cell_type": "markdown",
      "metadata": {
        "id": "ChR5qNGyW0J3",
        "colab_type": "text"
      },
      "source": [
        "For K=4 Folds\n"
      ]
    },
    {
      "cell_type": "code",
      "metadata": {
        "id": "5QPP_QNuYBCa",
        "colab_type": "code",
        "colab": {}
      },
      "source": [
        "validation_accuracy_k4=[]\n",
        "validation_loss_k4=[]\n",
        "fold_var=1"
      ],
      "execution_count": 29,
      "outputs": []
    },
    {
      "cell_type": "code",
      "metadata": {
        "id": "96TYXxgmDBKe",
        "colab_type": "code",
        "colab": {}
      },
      "source": [
        ""
      ],
      "execution_count": 29,
      "outputs": []
    },
    {
      "cell_type": "code",
      "metadata": {
        "colab_type": "code",
        "id": "etZTCxp379u2",
        "colab": {
          "base_uri": "https://localhost:8080/",
          "height": 1000
        },
        "outputId": "cb224596-5752-47cf-bd45-38ccba73f873"
      },
      "source": [
        "for index in range(4):#readings change for every epoch\n",
        "    \n",
        "    X_train, X_test1, ytrain, ytest1 = train_test_split(X_train1, ytrain1, test_size=0.2,\n",
        "                                                    random_state=random.randint(0,100))\n",
        "    \n",
        "    X_val, X_test, yval, ytest = train_test_split(X_test1, ytest1, test_size=0.5,\n",
        "                                                    random_state=random.randint(0,100))\n",
        "    \n",
        "    \n",
        "    \n",
        "    \n",
        "   \n",
        "  \n",
        "    \n",
        "    training_set = train_datagen.flow(\n",
        "            X_train, ytrain,\n",
        "            batch_size=64)\n",
        "    \n",
        "    val_set = val_datagen.flow(\n",
        "            X_val, yval, \n",
        "            batch_size=64)\n",
        "    \n",
        "    test_set = test_datagen.flow(\n",
        "            X_test, ytest,\n",
        "            batch_size=64)\n",
        "    \n",
        "    X, y = test_set.next()\n",
        "    history=model.fit_generator(\n",
        "            training_set,\n",
        "            steps_per_epoch=20,\n",
        "            epochs=15,\n",
        "            validation_data=val_set,\n",
        "            validation_steps=100)\n",
        "     \n",
        "\n",
        "    \n",
        "    \n",
        "    results = model.evaluate(X,y)\n",
        "    results1=dict(zip(model.metrics_names,results))\n",
        "    validation_accuracy_k4.append(results1['accuracy'])\n",
        "    validation_loss_k4.append(results1['loss'])\n",
        "\n",
        "    tf.keras.backend.clear_session()\n",
        "    fold_var+=1\n",
        "    \n",
        "    "
      ],
      "execution_count": 30,
      "outputs": [
        {
          "output_type": "stream",
          "text": [
            "WARNING:tensorflow:From <ipython-input-30-067dc2169fb4>:33: Model.fit_generator (from tensorflow.python.keras.engine.training) is deprecated and will be removed in a future version.\n",
            "Instructions for updating:\n",
            "Please use Model.fit, which supports generators.\n",
            "Epoch 1/15\n",
            "20/20 [==============================] - ETA: 0s - loss: 2.6305 - accuracy: 0.1803WARNING:tensorflow:Your input ran out of data; interrupting training. Make sure that your dataset or generator can generate at least `steps_per_epoch * epochs` batches (in this case, 100 batches). You may need to use the repeat() function when building your dataset.\n",
            "20/20 [==============================] - 61s 3s/step - loss: 2.6305 - accuracy: 0.1803 - val_loss: 2.7715 - val_accuracy: 0.0852\n",
            "Epoch 2/15\n",
            "20/20 [==============================] - 55s 3s/step - loss: 2.1556 - accuracy: 0.2727\n",
            "Epoch 3/15\n",
            "20/20 [==============================] - 55s 3s/step - loss: 1.9002 - accuracy: 0.3508\n",
            "Epoch 4/15\n",
            "20/20 [==============================] - 55s 3s/step - loss: 1.7844 - accuracy: 0.4125\n",
            "Epoch 5/15\n",
            "20/20 [==============================] - 54s 3s/step - loss: 1.7133 - accuracy: 0.4231\n",
            "Epoch 6/15\n",
            "20/20 [==============================] - 54s 3s/step - loss: 1.5620 - accuracy: 0.4671\n",
            "Epoch 7/15\n",
            "20/20 [==============================] - 54s 3s/step - loss: 1.5291 - accuracy: 0.4904\n",
            "Epoch 8/15\n",
            "20/20 [==============================] - 55s 3s/step - loss: 1.4321 - accuracy: 0.5148\n",
            "Epoch 9/15\n",
            "20/20 [==============================] - 54s 3s/step - loss: 1.2513 - accuracy: 0.5753\n",
            "Epoch 10/15\n",
            "20/20 [==============================] - 54s 3s/step - loss: 1.2320 - accuracy: 0.5713\n",
            "Epoch 11/15\n",
            "20/20 [==============================] - 57s 3s/step - loss: 1.1794 - accuracy: 0.5938\n",
            "Epoch 12/15\n",
            "20/20 [==============================] - 56s 3s/step - loss: 1.1777 - accuracy: 0.6055\n",
            "Epoch 13/15\n",
            "20/20 [==============================] - 55s 3s/step - loss: 1.0942 - accuracy: 0.6133\n",
            "Epoch 14/15\n",
            "20/20 [==============================] - 55s 3s/step - loss: 1.0354 - accuracy: 0.6562\n",
            "Epoch 15/15\n",
            "20/20 [==============================] - 55s 3s/step - loss: 0.8778 - accuracy: 0.6977\n",
            "2/2 [==============================] - 0s 202ms/step - loss: 2.2863 - accuracy: 0.2812\n",
            "Epoch 1/15\n",
            "20/20 [==============================] - ETA: 0s - loss: 0.9652 - accuracy: 0.6703WARNING:tensorflow:Your input ran out of data; interrupting training. Make sure that your dataset or generator can generate at least `steps_per_epoch * epochs` batches (in this case, 100 batches). You may need to use the repeat() function when building your dataset.\n",
            "20/20 [==============================] - 61s 3s/step - loss: 0.9652 - accuracy: 0.6703 - val_loss: 2.1645 - val_accuracy: 0.3426\n",
            "Epoch 2/15\n",
            "20/20 [==============================] - 53s 3s/step - loss: 0.9070 - accuracy: 0.6891\n",
            "Epoch 3/15\n",
            "20/20 [==============================] - 53s 3s/step - loss: 0.8360 - accuracy: 0.7027\n",
            "Epoch 4/15\n",
            "20/20 [==============================] - 55s 3s/step - loss: 0.8221 - accuracy: 0.7063\n",
            "Epoch 5/15\n",
            "20/20 [==============================] - 54s 3s/step - loss: 0.7064 - accuracy: 0.7648\n",
            "Epoch 6/15\n",
            "20/20 [==============================] - 55s 3s/step - loss: 0.6516 - accuracy: 0.7845\n",
            "Epoch 7/15\n",
            "20/20 [==============================] - 54s 3s/step - loss: 0.6878 - accuracy: 0.7664\n",
            "Epoch 8/15\n",
            "20/20 [==============================] - 53s 3s/step - loss: 0.5758 - accuracy: 0.7965\n",
            "Epoch 9/15\n",
            "20/20 [==============================] - 54s 3s/step - loss: 0.5588 - accuracy: 0.8156\n",
            "Epoch 10/15\n",
            "20/20 [==============================] - 55s 3s/step - loss: 0.5119 - accuracy: 0.8094\n",
            "Epoch 11/15\n",
            "20/20 [==============================] - 55s 3s/step - loss: 0.4509 - accuracy: 0.8539\n",
            "Epoch 12/15\n",
            "20/20 [==============================] - 53s 3s/step - loss: 0.5714 - accuracy: 0.8053\n",
            "Epoch 13/15\n",
            "20/20 [==============================] - 55s 3s/step - loss: 0.4638 - accuracy: 0.8367\n",
            "Epoch 14/15\n",
            "20/20 [==============================] - 53s 3s/step - loss: 0.4818 - accuracy: 0.8293\n",
            "Epoch 15/15\n",
            "20/20 [==============================] - 53s 3s/step - loss: 0.4513 - accuracy: 0.8526\n",
            "2/2 [==============================] - 0s 199ms/step - loss: 0.7685 - accuracy: 0.7188\n",
            "Epoch 1/15\n",
            "20/20 [==============================] - ETA: 0s - loss: 0.5518 - accuracy: 0.8133WARNING:tensorflow:Your input ran out of data; interrupting training. Make sure that your dataset or generator can generate at least `steps_per_epoch * epochs` batches (in this case, 100 batches). You may need to use the repeat() function when building your dataset.\n",
            "20/20 [==============================] - 62s 3s/step - loss: 0.5518 - accuracy: 0.8133 - val_loss: 1.1885 - val_accuracy: 0.6056\n",
            "Epoch 2/15\n",
            "20/20 [==============================] - 55s 3s/step - loss: 0.5251 - accuracy: 0.8197\n",
            "Epoch 3/15\n",
            "20/20 [==============================] - 54s 3s/step - loss: 0.4242 - accuracy: 0.8606\n",
            "Epoch 4/15\n",
            "20/20 [==============================] - 55s 3s/step - loss: 0.4514 - accuracy: 0.8438\n",
            "Epoch 5/15\n",
            "20/20 [==============================] - 55s 3s/step - loss: 0.4060 - accuracy: 0.8687\n",
            "Epoch 6/15\n",
            "20/20 [==============================] - 54s 3s/step - loss: 0.3705 - accuracy: 0.8814\n",
            "Epoch 7/15\n",
            "20/20 [==============================] - 54s 3s/step - loss: 0.3163 - accuracy: 0.9014\n",
            "Epoch 8/15\n",
            "20/20 [==============================] - 54s 3s/step - loss: 0.3024 - accuracy: 0.9079\n",
            "Epoch 9/15\n",
            "20/20 [==============================] - 55s 3s/step - loss: 0.2844 - accuracy: 0.9008\n",
            "Epoch 10/15\n",
            "20/20 [==============================] - 55s 3s/step - loss: 0.2759 - accuracy: 0.9133\n",
            "Epoch 11/15\n",
            "20/20 [==============================] - 55s 3s/step - loss: 0.2314 - accuracy: 0.9133\n",
            "Epoch 12/15\n",
            "20/20 [==============================] - 53s 3s/step - loss: 0.2150 - accuracy: 0.9303\n",
            "Epoch 13/15\n",
            "20/20 [==============================] - 56s 3s/step - loss: 0.2120 - accuracy: 0.9289\n",
            "Epoch 14/15\n",
            "20/20 [==============================] - 55s 3s/step - loss: 0.1965 - accuracy: 0.9344\n",
            "Epoch 15/15\n",
            "20/20 [==============================] - 55s 3s/step - loss: 0.1866 - accuracy: 0.9453\n",
            "2/2 [==============================] - 0s 211ms/step - loss: 1.1749 - accuracy: 0.7344\n",
            "Epoch 1/15\n",
            "20/20 [==============================] - ETA: 0s - loss: 0.2935 - accuracy: 0.9070WARNING:tensorflow:Your input ran out of data; interrupting training. Make sure that your dataset or generator can generate at least `steps_per_epoch * epochs` batches (in this case, 100 batches). You may need to use the repeat() function when building your dataset.\n",
            "20/20 [==============================] - 61s 3s/step - loss: 0.2935 - accuracy: 0.9070 - val_loss: 0.5977 - val_accuracy: 0.8111\n",
            "Epoch 2/15\n",
            "20/20 [==============================] - 53s 3s/step - loss: 0.2751 - accuracy: 0.9119\n",
            "Epoch 3/15\n",
            "20/20 [==============================] - 53s 3s/step - loss: 0.2706 - accuracy: 0.9071\n",
            "Epoch 4/15\n",
            "20/20 [==============================] - 55s 3s/step - loss: 0.2789 - accuracy: 0.9016\n",
            "Epoch 5/15\n",
            "20/20 [==============================] - 53s 3s/step - loss: 0.2260 - accuracy: 0.9247\n",
            "Epoch 6/15\n",
            "20/20 [==============================] - 55s 3s/step - loss: 0.2127 - accuracy: 0.9297\n",
            "Epoch 7/15\n",
            "20/20 [==============================] - 53s 3s/step - loss: 0.1681 - accuracy: 0.9535\n",
            "Epoch 8/15\n",
            "20/20 [==============================] - 54s 3s/step - loss: 0.1487 - accuracy: 0.9455\n",
            "Epoch 9/15\n",
            "20/20 [==============================] - 53s 3s/step - loss: 0.1728 - accuracy: 0.9367\n",
            "Epoch 10/15\n",
            "20/20 [==============================] - 55s 3s/step - loss: 0.1608 - accuracy: 0.9523\n",
            "Epoch 11/15\n",
            "20/20 [==============================] - 55s 3s/step - loss: 0.1286 - accuracy: 0.9555\n",
            "Epoch 12/15\n",
            "20/20 [==============================] - 55s 3s/step - loss: 0.1355 - accuracy: 0.9609\n",
            "Epoch 13/15\n",
            "20/20 [==============================] - 55s 3s/step - loss: 0.1089 - accuracy: 0.9609\n",
            "Epoch 14/15\n",
            "20/20 [==============================] - 53s 3s/step - loss: 0.1231 - accuracy: 0.9615\n",
            "Epoch 15/15\n",
            "20/20 [==============================] - 54s 3s/step - loss: 0.1049 - accuracy: 0.9647\n",
            "2/2 [==============================] - 0s 199ms/step - loss: 0.8803 - accuracy: 0.7344\n"
          ],
          "name": "stdout"
        }
      ]
    },
    {
      "cell_type": "markdown",
      "metadata": {
        "id": "QUnji3MXw0A9",
        "colab_type": "text"
      },
      "source": [
        "Plotting Training Accuracy and Loss"
      ]
    },
    {
      "cell_type": "code",
      "metadata": {
        "id": "tjbjzN6Muye5",
        "colab_type": "code",
        "colab": {}
      },
      "source": [
        "acc = history.history['accuracy']\n",
        "\n",
        "loss = history.history['loss']"
      ],
      "execution_count": 31,
      "outputs": []
    },
    {
      "cell_type": "code",
      "metadata": {
        "id": "LSuWsgRTuyPC",
        "colab_type": "code",
        "colab": {
          "base_uri": "https://localhost:8080/",
          "height": 513
        },
        "outputId": "5ff1c0e6-39a4-4f50-f2d4-4fcdedb56275"
      },
      "source": [
        "plt.figure(figsize=(8, 8))\n",
        "plt.subplot(2, 1, 1)\n",
        "plt.plot(acc, label='Training Accuracy')\n",
        "plt.legend(loc='lower right')\n",
        "plt.ylabel('Accuracy')\n",
        "plt.ylim([min(plt.ylim()),1])\n",
        "plt.title('Training Accuracy')\n",
        "\n",
        "plt.subplot(2, 1, 2)\n",
        "plt.plot(loss, label='Training Loss')\n",
        "plt.legend(loc='upper right')\n",
        "plt.ylabel('Cross Entropy')\n",
        "plt.ylim([0,4.0])\n",
        "plt.title('Training Loss')\n",
        "plt.xlabel('epoch')\n",
        "plt.show()"
      ],
      "execution_count": 32,
      "outputs": [
        {
          "output_type": "display_data",
          "data": {
            "image/png": "[encoded data removed]",
            "text/plain": [
              "<Figure size 576x576 with 2 Axes>"
            ]
          },
          "metadata": {
            "tags": [],
            "needs_background": "light"
          }
        }
      ]
    },
    {
      "cell_type": "markdown",
      "metadata": {
        "id": "-4QHBidYxGl8",
        "colab_type": "text"
      },
      "source": [
        "Determining the Mean Accuracy and Loss on the Validation Set"
      ]
    },
    {
      "cell_type": "code",
      "metadata": {
        "id": "lgoSKyuEwi0u",
        "colab_type": "code",
        "colab": {
          "base_uri": "https://localhost:8080/",
          "height": 34
        },
        "outputId": "4b6cf168-594a-4fa9-8592-135ec9d3339d"
      },
      "source": [
        "validation_accuracy_k4"
      ],
      "execution_count": 33,
      "outputs": [
        {
          "output_type": "execute_result",
          "data": {
            "text/plain": [
              "[0.28125, 0.71875, 0.734375, 0.734375]"
            ]
          },
          "metadata": {
            "tags": []
          },
          "execution_count": 33
        }
      ]
    },
    {
      "cell_type": "code",
      "metadata": {
        "id": "ouOis2hfxPP2",
        "colab_type": "code",
        "colab": {
          "base_uri": "https://localhost:8080/",
          "height": 85
        },
        "outputId": "b2ffd729-c122-4812-e5f6-792bf78746b1"
      },
      "source": [
        "validation_loss_k4"
      ],
      "execution_count": 34,
      "outputs": [
        {
          "output_type": "execute_result",
          "data": {
            "text/plain": [
              "[2.2862629890441895,\n",
              " 0.7685022950172424,\n",
              " 1.1749457120895386,\n",
              " 0.8802850246429443]"
            ]
          },
          "metadata": {
            "tags": []
          },
          "execution_count": 34
        }
      ]
    },
    {
      "cell_type": "code",
      "metadata": {
        "id": "vSqaPcCOxQy-",
        "colab_type": "code",
        "colab": {}
      },
      "source": [
        "from statistics import mean\n",
        "mean_accuracy=mean(validation_accuracy_k4)\n",
        "mean_loss=mean(validation_loss_k4)"
      ],
      "execution_count": 35,
      "outputs": []
    },
    {
      "cell_type": "code",
      "metadata": {
        "id": "ZYcjr-ZlxX2w",
        "colab_type": "code",
        "colab": {
          "base_uri": "https://localhost:8080/",
          "height": 51
        },
        "outputId": "440a0d43-2454-412a-e517-30fb0cc1d54c"
      },
      "source": [
        "print(\"Mean validation Accuracy value: \",mean_accuracy*100,\"%\")\n",
        "print(\"Mean validation loss value: \",mean_loss)"
      ],
      "execution_count": 36,
      "outputs": [
        {
          "output_type": "stream",
          "text": [
            "Mean validation Accuracy value:  61.71875 %\n",
            "Mean validation loss value:  1.2774990051984787\n"
          ],
          "name": "stdout"
        }
      ]
    },
    {
      "cell_type": "code",
      "metadata": {
        "id": "wZnxMCGUxda4",
        "colab_type": "code",
        "colab": {}
      },
      "source": [
        ""
      ],
      "execution_count": null,
      "outputs": []
    }
  ]
}