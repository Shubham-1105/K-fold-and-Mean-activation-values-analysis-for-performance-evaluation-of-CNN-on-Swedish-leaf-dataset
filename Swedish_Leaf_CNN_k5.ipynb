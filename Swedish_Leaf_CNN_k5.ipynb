{
  "nbformat": 4,
  "nbformat_minor": 0,
  "metadata": {
    "colab": {
      "name": "Swedish_Leaf_CNN_k5",
      "provenance": [],
      "collapsed_sections": []
    },
    "kernelspec": {
      "name": "python3",
      "display_name": "Python 3"
    }
  },
  "cells": [
    {
      "cell_type": "code",
      "metadata": {
        "id": "pZPLL4iKc0EM",
        "colab_type": "code",
        "colab": {
          "base_uri": "https://localhost:8080/",
          "height": 35
        },
        "outputId": "97c6ec32-784c-4c51-bdb5-3554f871394f"
      },
      "source": [
        "import tensorflow as tf\n",
        "import matplotlib.pyplot as plt\n",
        "import numpy as np\n",
        "import glob\n",
        "from tensorflow.keras.preprocessing.image import ImageDataGenerator\n",
        "import os\n",
        "from sklearn.model_selection import KFold,StratifiedKFold\n",
        "import random\n",
        "%matplotlib inline\n",
        "tf.__version__"
      ],
      "execution_count": 1,
      "outputs": [
        {
          "output_type": "execute_result",
          "data": {
            "application/vnd.google.colaboratory.intrinsic+json": {
              "type": "string"
            },
            "text/plain": [
              "'2.3.0'"
            ]
          },
          "metadata": {
            "tags": []
          },
          "execution_count": 1
        }
      ]
    },
    {
      "cell_type": "code",
      "metadata": {
        "id": "ylGsSqpgAaBl",
        "colab_type": "code",
        "colab": {
          "base_uri": "https://localhost:8080/",
          "height": 122
        },
        "outputId": "e261cebd-6af7-41ca-f41a-dfb99a42c8cd"
      },
      "source": [
        "from google.colab import drive\n",
        "drive.mount('/content/drive')"
      ],
      "execution_count": 2,
      "outputs": [
        {
          "output_type": "stream",
          "text": [
            "Go to this URL in a browser: https://accounts.google.com/o/oauth2/auth?client_id=947318989803-6bn6qk8qdgf4n4g3pfee6491hc0brc4i.apps.googleusercontent.com&redirect_uri=urn%3aietf%3awg%3aoauth%3a2.0%3aoob&response_type=code&scope=email%20https%3a%2f%2fwww.googleapis.com%2fauth%2fdocs.test%20https%3a%2f%2fwww.googleapis.com%2fauth%2fdrive%20https%3a%2f%2fwww.googleapis.com%2fauth%2fdrive.photos.readonly%20https%3a%2f%2fwww.googleapis.com%2fauth%2fpeopleapi.readonly\n",
            "\n",
            "Enter your authorization code:\n",
            "··········\n",
            "Mounted at /content/drive\n"
          ],
          "name": "stdout"
        }
      ]
    },
    {
      "cell_type": "code",
      "metadata": {
        "id": "svtiI-4yAaYQ",
        "colab_type": "code",
        "colab": {
          "base_uri": "https://localhost:8080/",
          "height": 34
        },
        "outputId": "cbfe0f33-58c7-4be6-a0b4-c4982d2bbbb1"
      },
      "source": [
        "%cd 'drive/My Drive/Swedish Leaf'"
      ],
      "execution_count": 3,
      "outputs": [
        {
          "output_type": "stream",
          "text": [
            "/content/drive/My Drive/Swedish Leaf\n"
          ],
          "name": "stdout"
        }
      ]
    },
    {
      "cell_type": "code",
      "metadata": {
        "id": "bssV66ChuEu4",
        "colab_type": "code",
        "colab": {}
      },
      "source": [
        "import glob\n",
        "Leaf1 = glob.glob('./Leaf1/*.*')\n",
        "Leaf2 = glob.glob('./Leaf2/*.*')\n",
        "Leaf3 = glob.glob('./Leaf3/*.*')\n",
        "Leaf4 = glob.glob('./Leaf4/*.*')\n",
        "Leaf5 = glob.glob('./Leaf5/*.*')\n",
        "Leaf6 = glob.glob('./Leaf6/*.*')\n",
        "Leaf7 = glob.glob('./Leaf7/*.*')\n",
        "Leaf8 = glob.glob('./Leaf8/*.*')\n",
        "Leaf9 = glob.glob('./Leaf9/*.*')\n",
        "Leaf10 = glob.glob('./Leaf10/*.*')\n",
        "Leaf11= glob.glob('./Leaf11/*.*')\n",
        "Leaf12= glob.glob('./Leaf12/*.*')\n",
        "Leaf13= glob.glob('./Leaf13/*.*')\n",
        "Leaf14= glob.glob('./Leaf14/*.*')\n",
        "Leaf15= glob.glob('./Leaf15/*.*')\n",
        "\n",
        "data = []\n",
        "labels = []"
      ],
      "execution_count": 4,
      "outputs": []
    },
    {
      "cell_type": "code",
      "metadata": {
        "id": "oi_ijhEPv2mU",
        "colab_type": "code",
        "colab": {}
      },
      "source": [
        "from tensorflow.keras.preprocessing.image import load_img,img_to_array"
      ],
      "execution_count": 5,
      "outputs": []
    },
    {
      "cell_type": "code",
      "metadata": {
        "id": "494uI5OduzYM",
        "colab_type": "code",
        "colab": {}
      },
      "source": [
        "for i in Leaf1:   \n",
        "    image=load_img(i)\n",
        "    img_arr=img_to_array(image)\n",
        "    data.append(img_arr)\n",
        "    labels.append(0)"
      ],
      "execution_count": 6,
      "outputs": []
    },
    {
      "cell_type": "code",
      "metadata": {
        "id": "nOa8gIvwxbAK",
        "colab_type": "code",
        "colab": {}
      },
      "source": [
        "for i in Leaf2:   \n",
        "    image=load_img(i)\n",
        "    img_arr=img_to_array(image)\n",
        "    data.append(img_arr)\n",
        "    labels.append(1)"
      ],
      "execution_count": 7,
      "outputs": []
    },
    {
      "cell_type": "code",
      "metadata": {
        "id": "mawLIf3uxaag",
        "colab_type": "code",
        "colab": {}
      },
      "source": [
        "for i in Leaf3:   \n",
        "    image=load_img(i)\n",
        "    img_arr=img_to_array(image)\n",
        "    data.append(img_arr)\n",
        "    labels.append(2)"
      ],
      "execution_count": 8,
      "outputs": []
    },
    {
      "cell_type": "code",
      "metadata": {
        "id": "VfM8Ztozx5iL",
        "colab_type": "code",
        "colab": {}
      },
      "source": [
        "for i in Leaf4:   \n",
        "    image=load_img(i)\n",
        "    img_arr=img_to_array(image)\n",
        "    data.append(img_arr)\n",
        "    labels.append(3)"
      ],
      "execution_count": 9,
      "outputs": []
    },
    {
      "cell_type": "code",
      "metadata": {
        "id": "xKk5nGsXx6ZI",
        "colab_type": "code",
        "colab": {}
      },
      "source": [
        "for i in Leaf5:   \n",
        "    image=load_img(i)\n",
        "    img_arr=img_to_array(image)\n",
        "    data.append(img_arr)\n",
        "    labels.append(4)"
      ],
      "execution_count": 10,
      "outputs": []
    },
    {
      "cell_type": "code",
      "metadata": {
        "id": "k2kJwQVWx6wB",
        "colab_type": "code",
        "colab": {}
      },
      "source": [
        "for i in Leaf6:   \n",
        "    image=load_img(i)\n",
        "    img_arr=img_to_array(image)\n",
        "    data.append(img_arr)\n",
        "    labels.append(5)"
      ],
      "execution_count": 11,
      "outputs": []
    },
    {
      "cell_type": "code",
      "metadata": {
        "id": "xa5kbHKOx6Id",
        "colab_type": "code",
        "colab": {}
      },
      "source": [
        "for i in Leaf7:   \n",
        "    image=load_img(i)\n",
        "    img_arr=img_to_array(image)\n",
        "    data.append(img_arr)\n",
        "    labels.append(6)"
      ],
      "execution_count": 12,
      "outputs": []
    },
    {
      "cell_type": "code",
      "metadata": {
        "id": "KLSHxx5Y2EDL",
        "colab_type": "code",
        "colab": {}
      },
      "source": [
        "for i in Leaf8:   \n",
        "    image=load_img(i)\n",
        "    img_arr=img_to_array(image)\n",
        "    data.append(img_arr)\n",
        "    labels.append(7)"
      ],
      "execution_count": 13,
      "outputs": []
    },
    {
      "cell_type": "code",
      "metadata": {
        "id": "Y62fvkUG2Evm",
        "colab_type": "code",
        "colab": {}
      },
      "source": [
        "for i in Leaf9:   \n",
        "    image=load_img(i)\n",
        "    img_arr=img_to_array(image)\n",
        "    data.append(img_arr)\n",
        "    labels.append(8)"
      ],
      "execution_count": 14,
      "outputs": []
    },
    {
      "cell_type": "code",
      "metadata": {
        "id": "FfInGUQL2Fer",
        "colab_type": "code",
        "colab": {}
      },
      "source": [
        "for i in Leaf10:   \n",
        "    image=load_img(i)\n",
        "    img_arr=img_to_array(image)\n",
        "    data.append(img_arr)\n",
        "    labels.append(9)"
      ],
      "execution_count": 15,
      "outputs": []
    },
    {
      "cell_type": "code",
      "metadata": {
        "id": "OiOFqNlE2FHO",
        "colab_type": "code",
        "colab": {}
      },
      "source": [
        "for i in Leaf11:   \n",
        "    image=load_img(i)\n",
        "    img_arr=img_to_array(image)\n",
        "    data.append(img_arr)\n",
        "    labels.append(10)"
      ],
      "execution_count": 16,
      "outputs": []
    },
    {
      "cell_type": "code",
      "metadata": {
        "id": "2oN7p4f22Edh",
        "colab_type": "code",
        "colab": {}
      },
      "source": [
        "for i in Leaf12:   \n",
        "    image=load_img(i)\n",
        "    img_arr=img_to_array(image)\n",
        "    data.append(img_arr)\n",
        "    labels.append(11)"
      ],
      "execution_count": 17,
      "outputs": []
    },
    {
      "cell_type": "code",
      "metadata": {
        "id": "MpK4ZoxLx5TY",
        "colab_type": "code",
        "colab": {}
      },
      "source": [
        "for i in Leaf13:   \n",
        "    image=load_img(i)\n",
        "    img_arr=img_to_array(image)\n",
        "    data.append(img_arr)\n",
        "    labels.append(12)"
      ],
      "execution_count": 18,
      "outputs": []
    },
    {
      "cell_type": "code",
      "metadata": {
        "id": "PlVqxuyHxpdE",
        "colab_type": "code",
        "colab": {}
      },
      "source": [
        "for i in Leaf14:   \n",
        "    image=load_img(i)\n",
        "    img_arr=img_to_array(image)\n",
        "    data.append(img_arr)\n",
        "    labels.append(13)"
      ],
      "execution_count": 19,
      "outputs": []
    },
    {
      "cell_type": "code",
      "metadata": {
        "id": "kPDu8lzV2spr",
        "colab_type": "code",
        "colab": {}
      },
      "source": [
        "for i in Leaf15:   \n",
        "    image=load_img(i)\n",
        "    img_arr=img_to_array(image)\n",
        "    data.append(img_arr)\n",
        "    labels.append(14)"
      ],
      "execution_count": 20,
      "outputs": []
    },
    {
      "cell_type": "code",
      "metadata": {
        "id": "jZQnJDma_qqJ",
        "colab_type": "code",
        "colab": {}
      },
      "source": [
        "skf=StratifiedKFold(n_splits=5,shuffle=True,random_state=random.randint(0,100))"
      ],
      "execution_count": 21,
      "outputs": []
    },
    {
      "cell_type": "code",
      "metadata": {
        "id": "TQ8UHUXb_rPw",
        "colab_type": "code",
        "colab": {}
      },
      "source": [
        "idg=ImageDataGenerator(rescale=1./255)"
      ],
      "execution_count": 22,
      "outputs": []
    },
    {
      "cell_type": "code",
      "metadata": {
        "id": "wNaGq2Ik_q_G",
        "colab_type": "code",
        "colab": {}
      },
      "source": [
        "def get_model_name(k):\n",
        "    return 'model_'+str(k)+'.h5'"
      ],
      "execution_count": 23,
      "outputs": []
    },
    {
      "cell_type": "code",
      "metadata": {
        "id": "afKGr-LieVNw",
        "colab_type": "code",
        "colab": {}
      },
      "source": [
        "from keras.utils.np_utils import to_categorical   \n",
        "\n",
        "categorical_labels = to_categorical(labels, num_classes=15)"
      ],
      "execution_count": 24,
      "outputs": []
    },
    {
      "cell_type": "code",
      "metadata": {
        "id": "_IeZdGfYeUVR",
        "colab_type": "code",
        "colab": {
          "base_uri": "https://localhost:8080/",
          "height": 34
        },
        "outputId": "f2831ce7-460d-4b8b-a333-0646484e2a29"
      },
      "source": [
        "data1 = np.array(data)\n",
        "print(data1.shape)"
      ],
      "execution_count": 25,
      "outputs": [
        {
          "output_type": "stream",
          "text": [
            "(6000, 128, 128, 3)\n"
          ],
          "name": "stdout"
        }
      ]
    },
    {
      "cell_type": "code",
      "metadata": {
        "id": "1e2sfGw3DBWE",
        "colab_type": "code",
        "colab": {}
      },
      "source": [
        "from sklearn.model_selection import train_test_split\n",
        "\n",
        "X_train1, X_test0, ytrain1, ytest0 = train_test_split(data1, categorical_labels, test_size=0.1,\n",
        "                                                    random_state=random.randint(0,100))"
      ],
      "execution_count": 26,
      "outputs": []
    },
    {
      "cell_type": "code",
      "metadata": {
        "id": "mDwpf5jYDBt1",
        "colab_type": "code",
        "colab": {}
      },
      "source": [
        "train_datagen=ImageDataGenerator(rescale=1./255)\n",
        "val_datagen = ImageDataGenerator(rescale=1./255)\n",
        "test_datagen = ImageDataGenerator(rescale=1./255)"
      ],
      "execution_count": 27,
      "outputs": []
    },
    {
      "cell_type": "code",
      "metadata": {
        "colab_type": "code",
        "id": "OVtFc-bwIlYZ",
        "colab": {}
      },
      "source": [
        "model=tf.keras.models.Sequential()\n",
        "model.add(tf.keras.layers.Conv2D(32,(5,5),strides=(1,1),padding='same',activation='relu',input_shape=[128,128,3]))\n",
        "model.add(tf.keras.layers.MaxPool2D(pool_size=(2,2),padding='same'))\n",
        "  \n",
        "model.add(tf.keras.layers.Conv2D(64,(5,5),activation='relu',padding='same',strides=(1,1)))\n",
        "model.add(tf.keras.layers.MaxPool2D(pool_size=(2,2),padding='same'))\n",
        "model.add(tf.keras.layers.BatchNormalization())\n",
        "\n",
        "model.add(tf.keras.layers.Conv2D(96,(3,3),activation='relu',strides=(2,2),padding='same'))\n",
        "model.add(tf.keras.layers.MaxPool2D(pool_size=(2,2),padding='valid'))\n",
        "model.add(tf.keras.layers.BatchNormalization())\n",
        "\n",
        "model.add(tf.keras.layers.Flatten())\n",
        "model.add(tf.keras.layers.Dense(units=100,activation='relu'))\n",
        "model.add(tf.keras.layers.Dense(units=100,activation='relu'))\n",
        "model.add(tf.keras.layers.Dropout(0.25))\n",
        "\n",
        "model.add(tf.keras.layers.Dense(15,activation='softmax'))\n",
        "  \n",
        "model.compile(loss='categorical_crossentropy',optimizer='adam',metrics=['accuracy'])\n",
        "\n",
        "\n",
        "\n",
        "\n",
        " "
      ],
      "execution_count": 28,
      "outputs": []
    },
    {
      "cell_type": "markdown",
      "metadata": {
        "id": "-Musb_hTWr11",
        "colab_type": "text"
      },
      "source": [
        "K-Fold Cross Validation\n"
      ]
    },
    {
      "cell_type": "markdown",
      "metadata": {
        "id": "ChR5qNGyW0J3",
        "colab_type": "text"
      },
      "source": [
        "For K=5 Folds\n"
      ]
    },
    {
      "cell_type": "code",
      "metadata": {
        "id": "5QPP_QNuYBCa",
        "colab_type": "code",
        "colab": {}
      },
      "source": [
        "validation_accuracy_k5=[]\n",
        "validation_loss_k5=[]\n",
        "fold_var=1"
      ],
      "execution_count": 29,
      "outputs": []
    },
    {
      "cell_type": "code",
      "metadata": {
        "id": "96TYXxgmDBKe",
        "colab_type": "code",
        "colab": {}
      },
      "source": [
        ""
      ],
      "execution_count": 29,
      "outputs": []
    },
    {
      "cell_type": "code",
      "metadata": {
        "colab_type": "code",
        "id": "etZTCxp379u2",
        "colab": {
          "base_uri": "https://localhost:8080/",
          "height": 1000
        },
        "outputId": "c49d0daa-1695-49e6-dea5-065e0ee2789a"
      },
      "source": [
        "for index in range(5):#readings change for every epoch\n",
        "    \n",
        "    X_train, X_test1, ytrain, ytest1 = train_test_split(X_train1, ytrain1, test_size=0.2,\n",
        "                                                    random_state=random.randint(0,100))\n",
        "    \n",
        "    X_val, X_test, yval, ytest = train_test_split(X_test1, ytest1, test_size=0.5,\n",
        "                                                    random_state=random.randint(0,100))\n",
        "    \n",
        "    \n",
        "    \n",
        "    \n",
        "   \n",
        "  \n",
        "    \n",
        "    training_set = train_datagen.flow(\n",
        "            X_train, ytrain,\n",
        "            batch_size=64)\n",
        "    \n",
        "    val_set = val_datagen.flow(\n",
        "            X_val, yval, \n",
        "            batch_size=64)\n",
        "    \n",
        "    test_set = test_datagen.flow(\n",
        "            X_test, ytest,\n",
        "            batch_size=64)\n",
        "    \n",
        "    X, y = test_set.next()\n",
        "    history=model.fit_generator(\n",
        "            training_set,\n",
        "            steps_per_epoch=20,\n",
        "            epochs=15,\n",
        "            validation_data=val_set,\n",
        "            validation_steps=100)\n",
        "     \n",
        "\n",
        "    \n",
        "    \n",
        "    results = model.evaluate(X,y)\n",
        "    results1=dict(zip(model.metrics_names,results))\n",
        "    validation_accuracy_k5.append(results1['accuracy'])\n",
        "    validation_loss_k5.append(results1['loss'])\n",
        "\n",
        "    tf.keras.backend.clear_session()\n",
        "    fold_var+=1\n",
        "    \n",
        "    "
      ],
      "execution_count": 30,
      "outputs": [
        {
          "output_type": "stream",
          "text": [
            "WARNING:tensorflow:From <ipython-input-30-b1d727f82b44>:33: Model.fit_generator (from tensorflow.python.keras.engine.training) is deprecated and will be removed in a future version.\n",
            "Instructions for updating:\n",
            "Please use Model.fit, which supports generators.\n",
            "Epoch 1/15\n",
            "20/20 [==============================] - ETA: 0s - loss: 2.6104 - accuracy: 0.1680WARNING:tensorflow:Your input ran out of data; interrupting training. Make sure that your dataset or generator can generate at least `steps_per_epoch * epochs` batches (in this case, 100 batches). You may need to use the repeat() function when building your dataset.\n",
            "20/20 [==============================] - 67s 3s/step - loss: 2.6104 - accuracy: 0.1680 - val_loss: 2.6155 - val_accuracy: 0.0833\n",
            "Epoch 2/15\n",
            "20/20 [==============================] - 58s 3s/step - loss: 2.2115 - accuracy: 0.2724\n",
            "Epoch 3/15\n",
            "20/20 [==============================] - 59s 3s/step - loss: 1.9669 - accuracy: 0.3336\n",
            "Epoch 4/15\n",
            "20/20 [==============================] - 60s 3s/step - loss: 1.7501 - accuracy: 0.4078\n",
            "Epoch 5/15\n",
            "20/20 [==============================] - 59s 3s/step - loss: 1.5546 - accuracy: 0.4742\n",
            "Epoch 6/15\n",
            "20/20 [==============================] - 59s 3s/step - loss: 1.4420 - accuracy: 0.5086\n",
            "Epoch 7/15\n",
            "20/20 [==============================] - 58s 3s/step - loss: 1.3904 - accuracy: 0.5337\n",
            "Epoch 8/15\n",
            "20/20 [==============================] - 59s 3s/step - loss: 1.2189 - accuracy: 0.5805\n",
            "Epoch 9/15\n",
            "20/20 [==============================] - 58s 3s/step - loss: 1.2356 - accuracy: 0.5905\n",
            "Epoch 10/15\n",
            "20/20 [==============================] - 61s 3s/step - loss: 1.1581 - accuracy: 0.5938\n",
            "Epoch 11/15\n",
            "20/20 [==============================] - 57s 3s/step - loss: 1.0341 - accuracy: 0.6474\n",
            "Epoch 12/15\n",
            "20/20 [==============================] - 59s 3s/step - loss: 1.0098 - accuracy: 0.6492\n",
            "Epoch 13/15\n",
            "20/20 [==============================] - 59s 3s/step - loss: 0.9524 - accuracy: 0.6719\n",
            "Epoch 14/15\n",
            "20/20 [==============================] - 59s 3s/step - loss: 0.8620 - accuracy: 0.6977\n",
            "Epoch 15/15\n",
            "20/20 [==============================] - 59s 3s/step - loss: 0.8011 - accuracy: 0.7117\n",
            "2/2 [==============================] - 0s 215ms/step - loss: 3.6252 - accuracy: 0.1250\n",
            "Epoch 1/15\n",
            "20/20 [==============================] - ETA: 0s - loss: 0.8735 - accuracy: 0.7051WARNING:tensorflow:Your input ran out of data; interrupting training. Make sure that your dataset or generator can generate at least `steps_per_epoch * epochs` batches (in this case, 100 batches). You may need to use the repeat() function when building your dataset.\n",
            "20/20 [==============================] - 65s 3s/step - loss: 0.8735 - accuracy: 0.7051 - val_loss: 2.7421 - val_accuracy: 0.3315\n",
            "Epoch 2/15\n",
            "20/20 [==============================] - 59s 3s/step - loss: 0.7510 - accuracy: 0.7484\n",
            "Epoch 3/15\n",
            "20/20 [==============================] - 59s 3s/step - loss: 0.7334 - accuracy: 0.7492\n",
            "Epoch 4/15\n",
            "20/20 [==============================] - 59s 3s/step - loss: 0.6685 - accuracy: 0.7789\n",
            "Epoch 5/15\n",
            "20/20 [==============================] - 59s 3s/step - loss: 0.6881 - accuracy: 0.7660\n",
            "Epoch 6/15\n",
            "20/20 [==============================] - 59s 3s/step - loss: 0.6359 - accuracy: 0.7703\n",
            "Epoch 7/15\n",
            "20/20 [==============================] - 59s 3s/step - loss: 0.5766 - accuracy: 0.7992\n",
            "Epoch 8/15\n",
            "20/20 [==============================] - 58s 3s/step - loss: 0.5881 - accuracy: 0.7981\n",
            "Epoch 9/15\n",
            "20/20 [==============================] - 59s 3s/step - loss: 0.4985 - accuracy: 0.8195\n",
            "Epoch 10/15\n",
            "20/20 [==============================] - 59s 3s/step - loss: 0.4742 - accuracy: 0.8438\n",
            "Epoch 11/15\n",
            "20/20 [==============================] - 59s 3s/step - loss: 0.4518 - accuracy: 0.8570\n",
            "Epoch 12/15\n",
            "20/20 [==============================] - 59s 3s/step - loss: 0.3906 - accuracy: 0.8687\n",
            "Epoch 13/15\n",
            "20/20 [==============================] - 59s 3s/step - loss: 0.3230 - accuracy: 0.8859\n",
            "Epoch 14/15\n",
            "20/20 [==============================] - 59s 3s/step - loss: 0.3402 - accuracy: 0.8828\n",
            "Epoch 15/15\n",
            "20/20 [==============================] - 61s 3s/step - loss: 0.3406 - accuracy: 0.8922\n",
            "2/2 [==============================] - 0s 210ms/step - loss: 1.0569 - accuracy: 0.6562\n",
            "Epoch 1/15\n",
            "20/20 [==============================] - ETA: 0s - loss: 0.4020 - accuracy: 0.8719WARNING:tensorflow:Your input ran out of data; interrupting training. Make sure that your dataset or generator can generate at least `steps_per_epoch * epochs` batches (in this case, 100 batches). You may need to use the repeat() function when building your dataset.\n",
            "20/20 [==============================] - 66s 3s/step - loss: 0.4020 - accuracy: 0.8719 - val_loss: 1.5557 - val_accuracy: 0.5944\n",
            "Epoch 2/15\n",
            "20/20 [==============================] - 59s 3s/step - loss: 0.3737 - accuracy: 0.8742\n",
            "Epoch 3/15\n",
            "20/20 [==============================] - 59s 3s/step - loss: 0.3551 - accuracy: 0.8852\n",
            "Epoch 4/15\n",
            "20/20 [==============================] - 57s 3s/step - loss: 0.3423 - accuracy: 0.8838\n",
            "Epoch 5/15\n",
            "20/20 [==============================] - 59s 3s/step - loss: 0.3780 - accuracy: 0.8695\n",
            "Epoch 6/15\n",
            "20/20 [==============================] - 59s 3s/step - loss: 0.2935 - accuracy: 0.9008\n",
            "Epoch 7/15\n",
            "20/20 [==============================] - 57s 3s/step - loss: 0.2871 - accuracy: 0.9071\n",
            "Epoch 8/15\n",
            "20/20 [==============================] - 59s 3s/step - loss: 0.2486 - accuracy: 0.9187\n",
            "Epoch 9/15\n",
            "20/20 [==============================] - 58s 3s/step - loss: 0.1875 - accuracy: 0.9399\n",
            "Epoch 10/15\n",
            "20/20 [==============================] - 59s 3s/step - loss: 0.2435 - accuracy: 0.9266\n",
            "Epoch 11/15\n",
            "20/20 [==============================] - 59s 3s/step - loss: 0.2356 - accuracy: 0.9219\n",
            "Epoch 12/15\n",
            "20/20 [==============================] - 57s 3s/step - loss: 0.2442 - accuracy: 0.9135\n",
            "Epoch 13/15\n",
            "20/20 [==============================] - 59s 3s/step - loss: 0.1768 - accuracy: 0.9406\n",
            "Epoch 14/15\n",
            "20/20 [==============================] - 58s 3s/step - loss: 0.1378 - accuracy: 0.9535\n",
            "Epoch 15/15\n",
            "20/20 [==============================] - 59s 3s/step - loss: 0.1457 - accuracy: 0.9547\n",
            "2/2 [==============================] - 0s 207ms/step - loss: 0.8013 - accuracy: 0.7812\n",
            "Epoch 1/15\n",
            "20/20 [==============================] - ETA: 0s - loss: 0.2789 - accuracy: 0.9111WARNING:tensorflow:Your input ran out of data; interrupting training. Make sure that your dataset or generator can generate at least `steps_per_epoch * epochs` batches (in this case, 100 batches). You may need to use the repeat() function when building your dataset.\n",
            "20/20 [==============================] - 65s 3s/step - loss: 0.2789 - accuracy: 0.9111 - val_loss: 0.6474 - val_accuracy: 0.7870\n",
            "Epoch 2/15\n",
            "20/20 [==============================] - 60s 3s/step - loss: 0.2054 - accuracy: 0.9367\n",
            "Epoch 3/15\n",
            "20/20 [==============================] - 60s 3s/step - loss: 0.1970 - accuracy: 0.9344\n",
            "Epoch 4/15\n",
            "20/20 [==============================] - 61s 3s/step - loss: 0.1604 - accuracy: 0.9508\n",
            "Epoch 5/15\n",
            "20/20 [==============================] - 60s 3s/step - loss: 0.1506 - accuracy: 0.9492\n",
            "Epoch 6/15\n",
            "20/20 [==============================] - 59s 3s/step - loss: 0.1366 - accuracy: 0.9567\n",
            "Epoch 7/15\n",
            "20/20 [==============================] - 58s 3s/step - loss: 0.1147 - accuracy: 0.9647\n",
            "Epoch 8/15\n",
            "20/20 [==============================] - 59s 3s/step - loss: 0.1031 - accuracy: 0.9696\n",
            "Epoch 9/15\n",
            "20/20 [==============================] - 60s 3s/step - loss: 0.0858 - accuracy: 0.9812\n",
            "Epoch 10/15\n",
            "20/20 [==============================] - 59s 3s/step - loss: 0.1081 - accuracy: 0.9655\n",
            "Epoch 11/15\n",
            "20/20 [==============================] - 60s 3s/step - loss: 0.0812 - accuracy: 0.9703\n",
            "Epoch 12/15\n",
            "20/20 [==============================] - 60s 3s/step - loss: 0.0948 - accuracy: 0.9727\n",
            "Epoch 13/15\n",
            "20/20 [==============================] - 59s 3s/step - loss: 0.0840 - accuracy: 0.9750\n",
            "Epoch 14/15\n",
            "20/20 [==============================] - 61s 3s/step - loss: 0.0651 - accuracy: 0.9828\n",
            "Epoch 15/15\n",
            "20/20 [==============================] - 59s 3s/step - loss: 0.0788 - accuracy: 0.9727\n",
            "2/2 [==============================] - 0s 206ms/step - loss: 1.0371 - accuracy: 0.7812\n",
            "Epoch 1/15\n",
            "20/20 [==============================] - ETA: 0s - loss: 0.1352 - accuracy: 0.9539WARNING:tensorflow:Your input ran out of data; interrupting training. Make sure that your dataset or generator can generate at least `steps_per_epoch * epochs` batches (in this case, 100 batches). You may need to use the repeat() function when building your dataset.\n",
            "20/20 [==============================] - 66s 3s/step - loss: 0.1352 - accuracy: 0.9539 - val_loss: 1.1555 - val_accuracy: 0.7500\n",
            "Epoch 2/15\n",
            "20/20 [==============================] - 59s 3s/step - loss: 0.1526 - accuracy: 0.9508\n",
            "Epoch 3/15\n",
            "20/20 [==============================] - 59s 3s/step - loss: 0.1378 - accuracy: 0.9586\n",
            "Epoch 4/15\n",
            "20/20 [==============================] - 57s 3s/step - loss: 0.1054 - accuracy: 0.9639\n",
            "Epoch 5/15\n",
            "20/20 [==============================] - 57s 3s/step - loss: 0.0808 - accuracy: 0.9728\n",
            "Epoch 6/15\n",
            "20/20 [==============================] - 59s 3s/step - loss: 0.0891 - accuracy: 0.9672\n",
            "Epoch 7/15\n",
            "20/20 [==============================] - 59s 3s/step - loss: 0.0912 - accuracy: 0.9680\n",
            "Epoch 8/15\n",
            "20/20 [==============================] - 60s 3s/step - loss: 0.0776 - accuracy: 0.9711\n",
            "Epoch 9/15\n",
            "20/20 [==============================] - 57s 3s/step - loss: 0.0746 - accuracy: 0.9792\n",
            "Epoch 10/15\n",
            "20/20 [==============================] - 57s 3s/step - loss: 0.0621 - accuracy: 0.9792\n",
            "Epoch 11/15\n",
            "20/20 [==============================] - 57s 3s/step - loss: 0.0942 - accuracy: 0.9688\n",
            "Epoch 12/15\n",
            "20/20 [==============================] - 57s 3s/step - loss: 0.0558 - accuracy: 0.9824\n",
            "Epoch 13/15\n",
            "20/20 [==============================] - 57s 3s/step - loss: 0.0485 - accuracy: 0.9872\n",
            "Epoch 14/15\n",
            "20/20 [==============================] - 57s 3s/step - loss: 0.0399 - accuracy: 0.9864\n",
            "Epoch 15/15\n",
            "20/20 [==============================] - 59s 3s/step - loss: 0.0520 - accuracy: 0.9891\n",
            "2/2 [==============================] - 0s 207ms/step - loss: 0.1156 - accuracy: 0.9688\n"
          ],
          "name": "stdout"
        }
      ]
    },
    {
      "cell_type": "markdown",
      "metadata": {
        "id": "DbzYrWzWnfVN",
        "colab_type": "text"
      },
      "source": [
        "Plotting Training Accuracy and Loss "
      ]
    },
    {
      "cell_type": "code",
      "metadata": {
        "id": "C9YBzctKmgVr",
        "colab_type": "code",
        "colab": {}
      },
      "source": [
        "acc = history.history['accuracy']\n",
        "\n",
        "loss = history.history['loss']"
      ],
      "execution_count": 31,
      "outputs": []
    },
    {
      "cell_type": "code",
      "metadata": {
        "id": "QfpK-jhPnRst",
        "colab_type": "code",
        "colab": {
          "base_uri": "https://localhost:8080/",
          "height": 513
        },
        "outputId": "492d5c6a-dfff-4e86-ecac-0c9d77e484d1"
      },
      "source": [
        "plt.figure(figsize=(8, 8))\n",
        "plt.subplot(2, 1, 1)\n",
        "plt.plot(acc, label='Training Accuracy')\n",
        "plt.legend(loc='lower right')\n",
        "plt.ylabel('Accuracy')\n",
        "plt.ylim([min(plt.ylim()),1])\n",
        "plt.title('Training Accuracy')\n",
        "\n",
        "plt.subplot(2, 1, 2)\n",
        "plt.plot(loss, label='Training Loss')\n",
        "plt.legend(loc='upper right')\n",
        "plt.ylabel('Cross Entropy')\n",
        "plt.ylim([0,4.0])\n",
        "plt.title('Training Loss')\n",
        "plt.xlabel('epoch')\n",
        "plt.show()"
      ],
      "execution_count": 32,
      "outputs": [
        {
          "output_type": "display_data",
          "data": {
            "image/png": "[encoded data removed]",
            "text/plain": [
              "<Figure size 576x576 with 2 Axes>"
            ]
          },
          "metadata": {
            "tags": [],
            "needs_background": "light"
          }
        }
      ]
    },
    {
      "cell_type": "markdown",
      "metadata": {
        "id": "9v82wCzeyQTK",
        "colab_type": "text"
      },
      "source": [
        "Determining the Mean Accuracy and Loss on the Validation Set"
      ]
    },
    {
      "cell_type": "code",
      "metadata": {
        "id": "zvJdMucbyFrH",
        "colab_type": "code",
        "colab": {
          "base_uri": "https://localhost:8080/",
          "height": 34
        },
        "outputId": "b8f0618e-9e86-47d8-a4b0-ce7c199ecfdf"
      },
      "source": [
        "validation_accuracy_k5"
      ],
      "execution_count": 33,
      "outputs": [
        {
          "output_type": "execute_result",
          "data": {
            "text/plain": [
              "[0.125, 0.65625, 0.78125, 0.78125, 0.96875]"
            ]
          },
          "metadata": {
            "tags": []
          },
          "execution_count": 33
        }
      ]
    },
    {
      "cell_type": "code",
      "metadata": {
        "id": "ymuogaajzjpZ",
        "colab_type": "code",
        "colab": {
          "base_uri": "https://localhost:8080/",
          "height": 102
        },
        "outputId": "1da9f184-c007-4d0f-802a-a8abba8038a5"
      },
      "source": [
        "validation_loss_k5"
      ],
      "execution_count": 34,
      "outputs": [
        {
          "output_type": "execute_result",
          "data": {
            "text/plain": [
              "[3.625232219696045,\n",
              " 1.0569329261779785,\n",
              " 0.8012516498565674,\n",
              " 1.0371065139770508,\n",
              " 0.11564239859580994]"
            ]
          },
          "metadata": {
            "tags": []
          },
          "execution_count": 34
        }
      ]
    },
    {
      "cell_type": "code",
      "metadata": {
        "id": "JdGEpBEfzlQm",
        "colab_type": "code",
        "colab": {}
      },
      "source": [
        "from statistics import mean\n",
        "mean_accuracy=mean(validation_accuracy_k5)\n",
        "mean_loss=mean(validation_loss_k5)"
      ],
      "execution_count": 35,
      "outputs": []
    },
    {
      "cell_type": "code",
      "metadata": {
        "id": "-aqt5CkyzqQU",
        "colab_type": "code",
        "colab": {
          "base_uri": "https://localhost:8080/",
          "height": 51
        },
        "outputId": "778217e6-f9ce-4b01-d3b8-04854358d0e0"
      },
      "source": [
        "print(\"Mean validation Accuracy value: \",mean_accuracy*100,\"%\")\n",
        "print(\"Mean validation loss value: \",mean_loss)"
      ],
      "execution_count": 36,
      "outputs": [
        {
          "output_type": "stream",
          "text": [
            "Mean validation Accuracy value:  66.25 %\n",
            "Mean validation loss value:  1.3272331416606904\n"
          ],
          "name": "stdout"
        }
      ]
    }
  ]
}